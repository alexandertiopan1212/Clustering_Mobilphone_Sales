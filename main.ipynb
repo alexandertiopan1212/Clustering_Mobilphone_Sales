{
 "cells": [
  {
   "cell_type": "markdown",
   "id": "0bcb2aab-8a08-4c7d-ab30-87cb548f333d",
   "metadata": {
    "id": "5ba1da57"
   },
   "source": [
    "# Clustering Mobilephone Sales"
   ]
  },
  {
   "cell_type": "markdown",
   "id": "d7224f21-7658-4034-b7db-652dc1a9616b",
   "metadata": {},
   "source": [
    "### Project Overview"
   ]
  },
  {
   "cell_type": "markdown",
   "id": "7492b7d3-ab10-4574-a243-de745f2bbc76",
   "metadata": {},
   "source": [
    "This project aims to cluster a dataset comprising product attributes such as brand, type, storage capacity, warranty, price, incoming, outgoing, and remaining stock. Utilizing K-means clustering, the analysis involves preprocessing steps to handle missing data, encoding categorical variables, and scaling features. Following exploratory data analysis to understand feature distributions and correlations, the dataset undergoes clustering to identify natural groupings of products based on their attributes. Optimal cluster number determination is guided by silhouette score and Davies-Bouldin score, with cluster visualization facilitated by silhouette plots. Through interpretation of the resulting clusters, insights into product segmentation and patterns are derived, enabling the formulation of actionable recommendations based on clustering outcomes. The libraries employed include numpy, pandas, scikit-learn, scipy, and yellowbrick for data manipulation, preprocessing, clustering, evaluation, and visualization, respectively."
   ]
  },
  {
   "cell_type": "markdown",
   "id": "4b754925-e7fc-44c8-9539-e95b7ec5f050",
   "metadata": {},
   "source": [
    "### Import Libraries"
   ]
  },
  {
   "cell_type": "code",
   "execution_count": 1,
   "id": "29fc646f-f0cf-4396-885c-d74884ffb3f5",
   "metadata": {
    "tags": []
   },
   "outputs": [],
   "source": [
    "# Utilities\n",
    "import numpy as np\n",
    "import pandas as pd\n",
    "\n",
    "# Machine Learning\n",
    "from sklearn.preprocessing import StandardScaler\n",
    "from sklearn.cluster import KMeans\n",
    "from scipy.stats import skew, boxcox\n",
    "from sklearn.metrics import silhouette_score, davies_bouldin_score\n",
    "from sklearn.metrics.cluster import contingency_matrix\n",
    "from yellowbrick.cluster import SilhouetteVisualizer, KElbowVisualizer\n",
    "\n",
    "# Visualization\n",
    "import seaborn as sns\n",
    "import matplotlib.pyplot as plt\n",
    "%matplotlib inline\n",
    "    \n",
    "import warnings\n",
    "warnings.filterwarnings(\"ignore\")"
   ]
  },
  {
   "cell_type": "markdown",
   "id": "2a9b2c2f-2322-4ffd-b07e-f133df43e0bf",
   "metadata": {},
   "source": [
    "### Dataset Input"
   ]
  },
  {
   "cell_type": "code",
   "execution_count": 2,
   "id": "75906736",
   "metadata": {
    "colab": {
     "base_uri": "https://localhost:8080/",
     "height": 424
    },
    "executionInfo": {
     "elapsed": 1705,
     "status": "ok",
     "timestamp": 1672373054367,
     "user": {
      "displayName": "miroalexander tiopan",
      "userId": "02347598650366603084"
     },
     "user_tz": -420
    },
    "id": "75906736",
    "outputId": "b0f22246-b143-4e75-c05b-a6123b1b0709",
    "tags": []
   },
   "outputs": [],
   "source": [
    "df = pd.read_excel('./DATAASLI.xlsx')"
   ]
  },
  {
   "cell_type": "code",
   "execution_count": 3,
   "id": "ca276893-a460-47de-bdb9-633732dda82d",
   "metadata": {
    "tags": []
   },
   "outputs": [
    {
     "data": {
      "text/html": [
       "<div>\n",
       "<style scoped>\n",
       "    .dataframe tbody tr th:only-of-type {\n",
       "        vertical-align: middle;\n",
       "    }\n",
       "\n",
       "    .dataframe tbody tr th {\n",
       "        vertical-align: top;\n",
       "    }\n",
       "\n",
       "    .dataframe thead th {\n",
       "        text-align: right;\n",
       "    }\n",
       "</style>\n",
       "<table border=\"1\" class=\"dataframe\">\n",
       "  <thead>\n",
       "    <tr style=\"text-align: right;\">\n",
       "      <th></th>\n",
       "      <th>No</th>\n",
       "      <th>Kode Barang</th>\n",
       "      <th>Merk</th>\n",
       "      <th>Type</th>\n",
       "      <th>Penyimpanan</th>\n",
       "      <th>Garansi</th>\n",
       "      <th>Harga</th>\n",
       "      <th>Barang Masuk</th>\n",
       "      <th>Barang Keluar</th>\n",
       "      <th>Stok Barang</th>\n",
       "    </tr>\n",
       "  </thead>\n",
       "  <tbody>\n",
       "    <tr>\n",
       "      <th>0</th>\n",
       "      <td>1</td>\n",
       "      <td>XI9A32</td>\n",
       "      <td>Xiaomi</td>\n",
       "      <td>9A</td>\n",
       "      <td>32</td>\n",
       "      <td>Resmi</td>\n",
       "      <td>1330000</td>\n",
       "      <td>30</td>\n",
       "      <td>18</td>\n",
       "      <td>12</td>\n",
       "    </tr>\n",
       "    <tr>\n",
       "      <th>1</th>\n",
       "      <td>2</td>\n",
       "      <td>XI9C32</td>\n",
       "      <td>Xiaomi</td>\n",
       "      <td>9C</td>\n",
       "      <td>32</td>\n",
       "      <td>Resmi</td>\n",
       "      <td>1400000</td>\n",
       "      <td>23</td>\n",
       "      <td>12</td>\n",
       "      <td>11</td>\n",
       "    </tr>\n",
       "    <tr>\n",
       "      <th>2</th>\n",
       "      <td>3</td>\n",
       "      <td>XI9C64</td>\n",
       "      <td>Xiaomi</td>\n",
       "      <td>9C</td>\n",
       "      <td>64</td>\n",
       "      <td>Resmi</td>\n",
       "      <td>1650000</td>\n",
       "      <td>27</td>\n",
       "      <td>17</td>\n",
       "      <td>10</td>\n",
       "    </tr>\n",
       "    <tr>\n",
       "      <th>3</th>\n",
       "      <td>4</td>\n",
       "      <td>XINO764</td>\n",
       "      <td>Xiaomi</td>\n",
       "      <td>Note 7</td>\n",
       "      <td>64</td>\n",
       "      <td>Resmi</td>\n",
       "      <td>2261000</td>\n",
       "      <td>11</td>\n",
       "      <td>7</td>\n",
       "      <td>4</td>\n",
       "    </tr>\n",
       "    <tr>\n",
       "      <th>4</th>\n",
       "      <td>5</td>\n",
       "      <td>XINO832</td>\n",
       "      <td>Xiaomi</td>\n",
       "      <td>Note 8</td>\n",
       "      <td>32</td>\n",
       "      <td>Resmi</td>\n",
       "      <td>2100000</td>\n",
       "      <td>12</td>\n",
       "      <td>6</td>\n",
       "      <td>6</td>\n",
       "    </tr>\n",
       "  </tbody>\n",
       "</table>\n",
       "</div>"
      ],
      "text/plain": [
       "   No Kode Barang    Merk    Type  Penyimpanan Garansi    Harga  Barang Masuk  \\\n",
       "0   1      XI9A32  Xiaomi      9A           32   Resmi  1330000            30   \n",
       "1   2      XI9C32  Xiaomi      9C           32   Resmi  1400000            23   \n",
       "2   3      XI9C64  Xiaomi      9C           64   Resmi  1650000            27   \n",
       "3   4     XINO764  Xiaomi  Note 7           64   Resmi  2261000            11   \n",
       "4   5     XINO832  Xiaomi  Note 8           32   Resmi  2100000            12   \n",
       "\n",
       "   Barang Keluar  Stok Barang  \n",
       "0             18           12  \n",
       "1             12           11  \n",
       "2             17           10  \n",
       "3              7            4  \n",
       "4              6            6  "
      ]
     },
     "execution_count": 3,
     "metadata": {},
     "output_type": "execute_result"
    }
   ],
   "source": [
    "df.head()"
   ]
  },
  {
   "cell_type": "markdown",
   "id": "cd2e3d65-37b3-4401-b38c-f9f93c2dc139",
   "metadata": {},
   "source": [
    "The dataset contains the following columns:\n",
    "* No: Unique identifier for each product.\n",
    "* Kode Barang: Product code.\n",
    "* Merk: Brand of the product.\n",
    "* Type: Type or model of the product.\n",
    "* Penyimpanan: Storage capacity of the product.\n",
    "* Garansi: Warranty information for the product.\n",
    "* Harga: Price of the product.\n",
    "* Barang Masuk: Quantity of the product entered.\n",
    "* Barang Keluar: Quantity of the product sold.\n",
    "* Stok Barang: Remaining stock of the product."
   ]
  },
  {
   "cell_type": "code",
   "execution_count": 4,
   "id": "53acc004",
   "metadata": {
    "colab": {
     "base_uri": "https://localhost:8080/",
     "height": 238
    },
    "executionInfo": {
     "elapsed": 28,
     "status": "ok",
     "timestamp": 1672373054369,
     "user": {
      "displayName": "miroalexander tiopan",
      "userId": "02347598650366603084"
     },
     "user_tz": -420
    },
    "id": "53acc004",
    "outputId": "9af4ccf5-f405-4bd3-8516-0c645a126658",
    "tags": []
   },
   "outputs": [
    {
     "data": {
      "text/html": [
       "<div>\n",
       "<style scoped>\n",
       "    .dataframe tbody tr th:only-of-type {\n",
       "        vertical-align: middle;\n",
       "    }\n",
       "\n",
       "    .dataframe tbody tr th {\n",
       "        vertical-align: top;\n",
       "    }\n",
       "\n",
       "    .dataframe thead th {\n",
       "        text-align: right;\n",
       "    }\n",
       "</style>\n",
       "<table border=\"1\" class=\"dataframe\">\n",
       "  <thead>\n",
       "    <tr style=\"text-align: right;\">\n",
       "      <th></th>\n",
       "      <th>count</th>\n",
       "      <th>mean</th>\n",
       "      <th>std</th>\n",
       "      <th>min</th>\n",
       "      <th>25%</th>\n",
       "      <th>50%</th>\n",
       "      <th>75%</th>\n",
       "      <th>max</th>\n",
       "    </tr>\n",
       "  </thead>\n",
       "  <tbody>\n",
       "    <tr>\n",
       "      <th>No</th>\n",
       "      <td>100.0</td>\n",
       "      <td>50.50</td>\n",
       "      <td>29.011492</td>\n",
       "      <td>1.0</td>\n",
       "      <td>25.75</td>\n",
       "      <td>50.5</td>\n",
       "      <td>75.25</td>\n",
       "      <td>100.0</td>\n",
       "    </tr>\n",
       "    <tr>\n",
       "      <th>Penyimpanan</th>\n",
       "      <td>100.0</td>\n",
       "      <td>68.33</td>\n",
       "      <td>38.733499</td>\n",
       "      <td>1.0</td>\n",
       "      <td>32.00</td>\n",
       "      <td>64.0</td>\n",
       "      <td>127.25</td>\n",
       "      <td>128.0</td>\n",
       "    </tr>\n",
       "    <tr>\n",
       "      <th>Harga</th>\n",
       "      <td>100.0</td>\n",
       "      <td>2128670.00</td>\n",
       "      <td>844216.929073</td>\n",
       "      <td>205000.0</td>\n",
       "      <td>1550000.00</td>\n",
       "      <td>1942500.0</td>\n",
       "      <td>2448750.00</td>\n",
       "      <td>4800000.0</td>\n",
       "    </tr>\n",
       "    <tr>\n",
       "      <th>Barang Masuk</th>\n",
       "      <td>100.0</td>\n",
       "      <td>14.38</td>\n",
       "      <td>5.859948</td>\n",
       "      <td>5.0</td>\n",
       "      <td>10.00</td>\n",
       "      <td>14.0</td>\n",
       "      <td>18.00</td>\n",
       "      <td>30.0</td>\n",
       "    </tr>\n",
       "    <tr>\n",
       "      <th>Barang Keluar</th>\n",
       "      <td>100.0</td>\n",
       "      <td>8.95</td>\n",
       "      <td>5.145116</td>\n",
       "      <td>2.0</td>\n",
       "      <td>5.00</td>\n",
       "      <td>7.0</td>\n",
       "      <td>11.25</td>\n",
       "      <td>25.0</td>\n",
       "    </tr>\n",
       "    <tr>\n",
       "      <th>Stok Barang</th>\n",
       "      <td>100.0</td>\n",
       "      <td>5.43</td>\n",
       "      <td>2.720127</td>\n",
       "      <td>2.0</td>\n",
       "      <td>3.00</td>\n",
       "      <td>5.0</td>\n",
       "      <td>7.00</td>\n",
       "      <td>14.0</td>\n",
       "    </tr>\n",
       "  </tbody>\n",
       "</table>\n",
       "</div>"
      ],
      "text/plain": [
       "               count        mean            std       min         25%  \\\n",
       "No             100.0       50.50      29.011492       1.0       25.75   \n",
       "Penyimpanan    100.0       68.33      38.733499       1.0       32.00   \n",
       "Harga          100.0  2128670.00  844216.929073  205000.0  1550000.00   \n",
       "Barang Masuk   100.0       14.38       5.859948       5.0       10.00   \n",
       "Barang Keluar  100.0        8.95       5.145116       2.0        5.00   \n",
       "Stok Barang    100.0        5.43       2.720127       2.0        3.00   \n",
       "\n",
       "                     50%         75%        max  \n",
       "No                  50.5       75.25      100.0  \n",
       "Penyimpanan         64.0      127.25      128.0  \n",
       "Harga          1942500.0  2448750.00  4800000.0  \n",
       "Barang Masuk        14.0       18.00       30.0  \n",
       "Barang Keluar        7.0       11.25       25.0  \n",
       "Stok Barang          5.0        7.00       14.0  "
      ]
     },
     "execution_count": 4,
     "metadata": {},
     "output_type": "execute_result"
    }
   ],
   "source": [
    "df.describe().T"
   ]
  },
  {
   "cell_type": "code",
   "execution_count": 5,
   "id": "cf20229b",
   "metadata": {
    "colab": {
     "base_uri": "https://localhost:8080/"
    },
    "executionInfo": {
     "elapsed": 27,
     "status": "ok",
     "timestamp": 1672373054370,
     "user": {
      "displayName": "miroalexander tiopan",
      "userId": "02347598650366603084"
     },
     "user_tz": -420
    },
    "id": "cf20229b",
    "outputId": "4289c78a-636f-40ad-8853-c24408edd41a",
    "tags": []
   },
   "outputs": [
    {
     "data": {
      "text/plain": [
       "No               0\n",
       "Kode Barang      0\n",
       "Merk             0\n",
       "Type             0\n",
       "Penyimpanan      0\n",
       "Garansi          0\n",
       "Harga            0\n",
       "Barang Masuk     0\n",
       "Barang Keluar    0\n",
       "Stok Barang      0\n",
       "dtype: int64"
      ]
     },
     "execution_count": 5,
     "metadata": {},
     "output_type": "execute_result"
    }
   ],
   "source": [
    "df.isna().sum()"
   ]
  },
  {
   "cell_type": "code",
   "execution_count": 6,
   "id": "12961049",
   "metadata": {
    "colab": {
     "base_uri": "https://localhost:8080/"
    },
    "executionInfo": {
     "elapsed": 21,
     "status": "ok",
     "timestamp": 1672373054370,
     "user": {
      "displayName": "miroalexander tiopan",
      "userId": "02347598650366603084"
     },
     "user_tz": -420
    },
    "id": "12961049",
    "outputId": "5f741458-7aa5-4c2f-8c1e-b5e46ebaf61d",
    "tags": []
   },
   "outputs": [
    {
     "data": {
      "text/plain": [
       "0"
      ]
     },
     "execution_count": 6,
     "metadata": {},
     "output_type": "execute_result"
    }
   ],
   "source": [
    "df.duplicated().sum()"
   ]
  },
  {
   "cell_type": "code",
   "execution_count": 7,
   "id": "747d3468",
   "metadata": {
    "colab": {
     "base_uri": "https://localhost:8080/",
     "height": 424
    },
    "executionInfo": {
     "elapsed": 19,
     "status": "ok",
     "timestamp": 1672373054371,
     "user": {
      "displayName": "miroalexander tiopan",
      "userId": "02347598650366603084"
     },
     "user_tz": -420
    },
    "id": "747d3468",
    "outputId": "ef55a210-b5fa-49b7-ccab-dc7d3ad805c7",
    "tags": []
   },
   "outputs": [],
   "source": [
    "df.drop('No',inplace=True,axis=1)"
   ]
  },
  {
   "cell_type": "code",
   "execution_count": 8,
   "id": "c6fba81a-3db7-49fa-b693-505b5382c992",
   "metadata": {
    "tags": []
   },
   "outputs": [
    {
     "data": {
      "text/html": [
       "<div>\n",
       "<style scoped>\n",
       "    .dataframe tbody tr th:only-of-type {\n",
       "        vertical-align: middle;\n",
       "    }\n",
       "\n",
       "    .dataframe tbody tr th {\n",
       "        vertical-align: top;\n",
       "    }\n",
       "\n",
       "    .dataframe thead th {\n",
       "        text-align: right;\n",
       "    }\n",
       "</style>\n",
       "<table border=\"1\" class=\"dataframe\">\n",
       "  <thead>\n",
       "    <tr style=\"text-align: right;\">\n",
       "      <th></th>\n",
       "      <th>Kode Barang</th>\n",
       "      <th>Merk</th>\n",
       "      <th>Type</th>\n",
       "      <th>Penyimpanan</th>\n",
       "      <th>Garansi</th>\n",
       "      <th>Harga</th>\n",
       "      <th>Barang Masuk</th>\n",
       "      <th>Barang Keluar</th>\n",
       "      <th>Stok Barang</th>\n",
       "    </tr>\n",
       "  </thead>\n",
       "  <tbody>\n",
       "    <tr>\n",
       "      <th>0</th>\n",
       "      <td>XI9A32</td>\n",
       "      <td>Xiaomi</td>\n",
       "      <td>9A</td>\n",
       "      <td>32</td>\n",
       "      <td>Resmi</td>\n",
       "      <td>1330000</td>\n",
       "      <td>30</td>\n",
       "      <td>18</td>\n",
       "      <td>12</td>\n",
       "    </tr>\n",
       "    <tr>\n",
       "      <th>1</th>\n",
       "      <td>XI9C32</td>\n",
       "      <td>Xiaomi</td>\n",
       "      <td>9C</td>\n",
       "      <td>32</td>\n",
       "      <td>Resmi</td>\n",
       "      <td>1400000</td>\n",
       "      <td>23</td>\n",
       "      <td>12</td>\n",
       "      <td>11</td>\n",
       "    </tr>\n",
       "    <tr>\n",
       "      <th>2</th>\n",
       "      <td>XI9C64</td>\n",
       "      <td>Xiaomi</td>\n",
       "      <td>9C</td>\n",
       "      <td>64</td>\n",
       "      <td>Resmi</td>\n",
       "      <td>1650000</td>\n",
       "      <td>27</td>\n",
       "      <td>17</td>\n",
       "      <td>10</td>\n",
       "    </tr>\n",
       "    <tr>\n",
       "      <th>3</th>\n",
       "      <td>XINO764</td>\n",
       "      <td>Xiaomi</td>\n",
       "      <td>Note 7</td>\n",
       "      <td>64</td>\n",
       "      <td>Resmi</td>\n",
       "      <td>2261000</td>\n",
       "      <td>11</td>\n",
       "      <td>7</td>\n",
       "      <td>4</td>\n",
       "    </tr>\n",
       "    <tr>\n",
       "      <th>4</th>\n",
       "      <td>XINO832</td>\n",
       "      <td>Xiaomi</td>\n",
       "      <td>Note 8</td>\n",
       "      <td>32</td>\n",
       "      <td>Resmi</td>\n",
       "      <td>2100000</td>\n",
       "      <td>12</td>\n",
       "      <td>6</td>\n",
       "      <td>6</td>\n",
       "    </tr>\n",
       "  </tbody>\n",
       "</table>\n",
       "</div>"
      ],
      "text/plain": [
       "  Kode Barang    Merk    Type  Penyimpanan Garansi    Harga  Barang Masuk  \\\n",
       "0      XI9A32  Xiaomi      9A           32   Resmi  1330000            30   \n",
       "1      XI9C32  Xiaomi      9C           32   Resmi  1400000            23   \n",
       "2      XI9C64  Xiaomi      9C           64   Resmi  1650000            27   \n",
       "3     XINO764  Xiaomi  Note 7           64   Resmi  2261000            11   \n",
       "4     XINO832  Xiaomi  Note 8           32   Resmi  2100000            12   \n",
       "\n",
       "   Barang Keluar  Stok Barang  \n",
       "0             18           12  \n",
       "1             12           11  \n",
       "2             17           10  \n",
       "3              7            4  \n",
       "4              6            6  "
      ]
     },
     "execution_count": 8,
     "metadata": {},
     "output_type": "execute_result"
    }
   ],
   "source": [
    "df.head()"
   ]
  },
  {
   "cell_type": "markdown",
   "id": "adac8341-9990-4d10-a07a-0304b5530ed0",
   "metadata": {},
   "source": [
    "Based on the provided descriptive statistics, we can draw the following conclusions about the dataset:\n",
    "\n",
    "* Penyimpanan (Storage): The storage capacity of the products ranges from 1 to 128, with an average capacity of 68.33 and a standard deviation of 38.73. The majority of products have a storage capacity between 32 and 127.25.\n",
    "* Harga (Price): The prices of the products vary widely, with a minimum price of 205,000 and a maximum price of 4,800,000. The average price is 2,128,670, with a standard deviation of 844,216.93.\n",
    "* Barang Masuk (Incoming Stock): The average quantity of products entering stock is 14.38, with a standard deviation of 5.86. The range of incoming stock is from 5 to 30 units.\n",
    "* Barang Keluar (Outgoing Stock): The average quantity of products sold is 8.95, with a standard deviation of 5.15. The range of outgoing stock is from 2 to 25 units.\n",
    "* Stok Barang (Remaining Stock): The average remaining stock is 5.43, with a standard deviation of 2.72. The range of remaining stock is from 2 to 14 units."
   ]
  },
  {
   "cell_type": "markdown",
   "id": "e7ba33d5-71a0-4a76-af81-c0e0e27409bc",
   "metadata": {},
   "source": [
    "### EDA"
   ]
  },
  {
   "cell_type": "code",
   "execution_count": 9,
   "id": "c9b6c947",
   "metadata": {
    "colab": {
     "base_uri": "https://localhost:8080/",
     "height": 1000
    },
    "executionInfo": {
     "elapsed": 18,
     "status": "ok",
     "timestamp": 1672373054371,
     "user": {
      "displayName": "miroalexander tiopan",
      "userId": "02347598650366603084"
     },
     "user_tz": -420
    },
    "id": "c9b6c947",
    "outputId": "e8b87509-25f3-4a9a-e49b-ca739294a313",
    "tags": []
   },
   "outputs": [
    {
     "data": {
      "image/png": "[encoded data removed]",
      "text/plain": [
       "<Figure size 2000x2000 with 3 Axes>"
      ]
     },
     "metadata": {},
     "output_type": "display_data"
    }
   ],
   "source": [
    "var_col = ['Penyimpanan','Harga','Stok Barang']\n",
    "plt.figure(figsize=(20,20))\n",
    "for i, col in enumerate(var_col):\n",
    "    plt.subplot(3,1,i+1)\n",
    "    plt.title(col, fontsize=15)\n",
    "    plt.xlabel(\"Value\", fontsize=13)\n",
    "    plt.ylabel(\"count\", fontsize=13)\n",
    "    plt.subplots_adjust(hspace=0.5, wspace=0.3)\n",
    "    sns.histplot(data=df, x=col, bins=20, kde=True)"
   ]
  },
  {
   "cell_type": "code",
   "execution_count": 10,
   "id": "56a551e4",
   "metadata": {
    "colab": {
     "base_uri": "https://localhost:8080/"
    },
    "executionInfo": {
     "elapsed": 24,
     "status": "ok",
     "timestamp": 1672373061230,
     "user": {
      "displayName": "miroalexander tiopan",
      "userId": "02347598650366603084"
     },
     "user_tz": -420
    },
    "id": "56a551e4",
    "outputId": "b5c26edf-3480-47c1-c0c7-bbc9f685cbb3"
   },
   "outputs": [
    {
     "data": {
      "text/plain": [
       "array(['Xiaomi', 'Samsung', 'Oppo', 'Realme', 'Vivo', 'Infinix', 'Nokia',\n",
       "       'Meizu'], dtype=object)"
      ]
     },
     "execution_count": 10,
     "metadata": {},
     "output_type": "execute_result"
    }
   ],
   "source": [
    "df['Merk'].unique()"
   ]
  },
  {
   "cell_type": "code",
   "execution_count": 11,
   "id": "2b6daea6",
   "metadata": {
    "colab": {
     "base_uri": "https://localhost:8080/",
     "height": 448
    },
    "executionInfo": {
     "elapsed": 19,
     "status": "ok",
     "timestamp": 1672373061231,
     "user": {
      "displayName": "miroalexander tiopan",
      "userId": "02347598650366603084"
     },
     "user_tz": -420
    },
    "id": "2b6daea6",
    "outputId": "3a652d89-c5a8-4cb6-856d-831e2de8f56d"
   },
   "outputs": [
    {
     "data": {
      "image/png": "[encoded data removed]",
      "text/plain": [
       "<Figure size 1200x700 with 1 Axes>"
      ]
     },
     "metadata": {},
     "output_type": "display_data"
    }
   ],
   "source": [
    "plt.figure(figsize=(12,7))\n",
    "plt.bar(df['Merk'],df['Stok Barang'] , color='lightcoral')\n",
    "\n",
    "plt.title('Number of Stock Based on Brand', size=16)\n",
    "plt.ylabel('Number of Stock ', size=14)\n",
    "plt.xticks(size=12)\n",
    "plt.yticks(size=12)\n",
    "\n",
    "plt.show()"
   ]
  },
  {
   "cell_type": "code",
   "execution_count": 12,
   "id": "b9035017",
   "metadata": {
    "colab": {
     "base_uri": "https://localhost:8080/",
     "height": 424
    },
    "executionInfo": {
     "elapsed": 18,
     "status": "ok",
     "timestamp": 1672373061231,
     "user": {
      "displayName": "miroalexander tiopan",
      "userId": "02347598650366603084"
     },
     "user_tz": -420
    },
    "id": "b9035017",
    "outputId": "637ffd64-7ce3-4a51-dd4e-d17795f6843f"
   },
   "outputs": [],
   "source": [
    "new_df = df[['Penyimpanan','Harga','Barang Masuk','Barang Keluar','Stok Barang']]"
   ]
  },
  {
   "cell_type": "code",
   "execution_count": 13,
   "id": "cef4cb4b-1bd5-4c80-a794-87ea5f41e3ca",
   "metadata": {},
   "outputs": [
    {
     "data": {
      "text/html": [
       "<div>\n",
       "<style scoped>\n",
       "    .dataframe tbody tr th:only-of-type {\n",
       "        vertical-align: middle;\n",
       "    }\n",
       "\n",
       "    .dataframe tbody tr th {\n",
       "        vertical-align: top;\n",
       "    }\n",
       "\n",
       "    .dataframe thead th {\n",
       "        text-align: right;\n",
       "    }\n",
       "</style>\n",
       "<table border=\"1\" class=\"dataframe\">\n",
       "  <thead>\n",
       "    <tr style=\"text-align: right;\">\n",
       "      <th></th>\n",
       "      <th>Penyimpanan</th>\n",
       "      <th>Harga</th>\n",
       "      <th>Barang Masuk</th>\n",
       "      <th>Barang Keluar</th>\n",
       "      <th>Stok Barang</th>\n",
       "    </tr>\n",
       "  </thead>\n",
       "  <tbody>\n",
       "    <tr>\n",
       "      <th>0</th>\n",
       "      <td>32</td>\n",
       "      <td>1330000</td>\n",
       "      <td>30</td>\n",
       "      <td>18</td>\n",
       "      <td>12</td>\n",
       "    </tr>\n",
       "    <tr>\n",
       "      <th>1</th>\n",
       "      <td>32</td>\n",
       "      <td>1400000</td>\n",
       "      <td>23</td>\n",
       "      <td>12</td>\n",
       "      <td>11</td>\n",
       "    </tr>\n",
       "    <tr>\n",
       "      <th>2</th>\n",
       "      <td>64</td>\n",
       "      <td>1650000</td>\n",
       "      <td>27</td>\n",
       "      <td>17</td>\n",
       "      <td>10</td>\n",
       "    </tr>\n",
       "    <tr>\n",
       "      <th>3</th>\n",
       "      <td>64</td>\n",
       "      <td>2261000</td>\n",
       "      <td>11</td>\n",
       "      <td>7</td>\n",
       "      <td>4</td>\n",
       "    </tr>\n",
       "    <tr>\n",
       "      <th>4</th>\n",
       "      <td>32</td>\n",
       "      <td>2100000</td>\n",
       "      <td>12</td>\n",
       "      <td>6</td>\n",
       "      <td>6</td>\n",
       "    </tr>\n",
       "  </tbody>\n",
       "</table>\n",
       "</div>"
      ],
      "text/plain": [
       "   Penyimpanan    Harga  Barang Masuk  Barang Keluar  Stok Barang\n",
       "0           32  1330000            30             18           12\n",
       "1           32  1400000            23             12           11\n",
       "2           64  1650000            27             17           10\n",
       "3           64  2261000            11              7            4\n",
       "4           32  2100000            12              6            6"
      ]
     },
     "execution_count": 13,
     "metadata": {},
     "output_type": "execute_result"
    }
   ],
   "source": [
    "new_df.head()"
   ]
  },
  {
   "cell_type": "markdown",
   "id": "5705bfab",
   "metadata": {
    "id": "5705bfab"
   },
   "source": [
    "### Preprocessing"
   ]
  },
  {
   "cell_type": "code",
   "execution_count": 14,
   "id": "75e87126",
   "metadata": {
    "id": "75e87126"
   },
   "outputs": [],
   "source": [
    "SS_scaler = pd.DataFrame(StandardScaler().fit_transform(new_df), columns=new_df.columns)"
   ]
  },
  {
   "cell_type": "code",
   "execution_count": 15,
   "id": "3ad0e78b",
   "metadata": {
    "colab": {
     "base_uri": "https://localhost:8080/",
     "height": 424
    },
    "executionInfo": {
     "elapsed": 17,
     "status": "ok",
     "timestamp": 1672373062397,
     "user": {
      "displayName": "miroalexander tiopan",
      "userId": "02347598650366603084"
     },
     "user_tz": -420
    },
    "id": "3ad0e78b",
    "outputId": "49b7c039-e74f-455f-a438-3a211500b2ce"
   },
   "outputs": [
    {
     "data": {
      "text/html": [
       "<div>\n",
       "<style scoped>\n",
       "    .dataframe tbody tr th:only-of-type {\n",
       "        vertical-align: middle;\n",
       "    }\n",
       "\n",
       "    .dataframe tbody tr th {\n",
       "        vertical-align: top;\n",
       "    }\n",
       "\n",
       "    .dataframe thead th {\n",
       "        text-align: right;\n",
       "    }\n",
       "</style>\n",
       "<table border=\"1\" class=\"dataframe\">\n",
       "  <thead>\n",
       "    <tr style=\"text-align: right;\">\n",
       "      <th></th>\n",
       "      <th>Penyimpanan</th>\n",
       "      <th>Harga</th>\n",
       "      <th>Barang Masuk</th>\n",
       "      <th>Barang Keluar</th>\n",
       "      <th>Stok Barang</th>\n",
       "    </tr>\n",
       "  </thead>\n",
       "  <tbody>\n",
       "    <tr>\n",
       "      <th>0</th>\n",
       "      <td>-0.942673</td>\n",
       "      <td>-0.950814</td>\n",
       "      <td>2.678981</td>\n",
       "      <td>1.767811</td>\n",
       "      <td>2.427496</td>\n",
       "    </tr>\n",
       "    <tr>\n",
       "      <th>1</th>\n",
       "      <td>-0.942673</td>\n",
       "      <td>-0.867480</td>\n",
       "      <td>1.478413</td>\n",
       "      <td>0.595782</td>\n",
       "      <td>2.058014</td>\n",
       "    </tr>\n",
       "    <tr>\n",
       "      <th>2</th>\n",
       "      <td>-0.112353</td>\n",
       "      <td>-0.569855</td>\n",
       "      <td>2.164452</td>\n",
       "      <td>1.572473</td>\n",
       "      <td>1.688532</td>\n",
       "    </tr>\n",
       "    <tr>\n",
       "      <th>3</th>\n",
       "      <td>-0.112353</td>\n",
       "      <td>0.157538</td>\n",
       "      <td>-0.579703</td>\n",
       "      <td>-0.380910</td>\n",
       "      <td>-0.528359</td>\n",
       "    </tr>\n",
       "    <tr>\n",
       "      <th>4</th>\n",
       "      <td>-0.942673</td>\n",
       "      <td>-0.034132</td>\n",
       "      <td>-0.408193</td>\n",
       "      <td>-0.576248</td>\n",
       "      <td>0.210605</td>\n",
       "    </tr>\n",
       "    <tr>\n",
       "      <th>...</th>\n",
       "      <td>...</td>\n",
       "      <td>...</td>\n",
       "      <td>...</td>\n",
       "      <td>...</td>\n",
       "      <td>...</td>\n",
       "    </tr>\n",
       "    <tr>\n",
       "      <th>95</th>\n",
       "      <td>1.548288</td>\n",
       "      <td>-0.272231</td>\n",
       "      <td>0.106336</td>\n",
       "      <td>0.205105</td>\n",
       "      <td>-0.158877</td>\n",
       "    </tr>\n",
       "    <tr>\n",
       "      <th>96</th>\n",
       "      <td>-0.942673</td>\n",
       "      <td>-0.688905</td>\n",
       "      <td>1.992943</td>\n",
       "      <td>2.353825</td>\n",
       "      <td>-0.158877</td>\n",
       "    </tr>\n",
       "    <tr>\n",
       "      <th>97</th>\n",
       "      <td>-0.112353</td>\n",
       "      <td>-0.569855</td>\n",
       "      <td>1.306904</td>\n",
       "      <td>1.181796</td>\n",
       "      <td>0.580087</td>\n",
       "    </tr>\n",
       "    <tr>\n",
       "      <th>98</th>\n",
       "      <td>-1.747046</td>\n",
       "      <td>-2.274647</td>\n",
       "      <td>1.992943</td>\n",
       "      <td>2.158487</td>\n",
       "      <td>0.210605</td>\n",
       "    </tr>\n",
       "    <tr>\n",
       "      <th>99</th>\n",
       "      <td>-1.357833</td>\n",
       "      <td>-1.581778</td>\n",
       "      <td>0.620865</td>\n",
       "      <td>0.205105</td>\n",
       "      <td>0.949569</td>\n",
       "    </tr>\n",
       "  </tbody>\n",
       "</table>\n",
       "<p>100 rows × 5 columns</p>\n",
       "</div>"
      ],
      "text/plain": [
       "    Penyimpanan     Harga  Barang Masuk  Barang Keluar  Stok Barang\n",
       "0     -0.942673 -0.950814      2.678981       1.767811     2.427496\n",
       "1     -0.942673 -0.867480      1.478413       0.595782     2.058014\n",
       "2     -0.112353 -0.569855      2.164452       1.572473     1.688532\n",
       "3     -0.112353  0.157538     -0.579703      -0.380910    -0.528359\n",
       "4     -0.942673 -0.034132     -0.408193      -0.576248     0.210605\n",
       "..          ...       ...           ...            ...          ...\n",
       "95     1.548288 -0.272231      0.106336       0.205105    -0.158877\n",
       "96    -0.942673 -0.688905      1.992943       2.353825    -0.158877\n",
       "97    -0.112353 -0.569855      1.306904       1.181796     0.580087\n",
       "98    -1.747046 -2.274647      1.992943       2.158487     0.210605\n",
       "99    -1.357833 -1.581778      0.620865       0.205105     0.949569\n",
       "\n",
       "[100 rows x 5 columns]"
      ]
     },
     "execution_count": 15,
     "metadata": {},
     "output_type": "execute_result"
    }
   ],
   "source": [
    "SS_scaler"
   ]
  },
  {
   "cell_type": "markdown",
   "id": "96baf5f5",
   "metadata": {
    "id": "96baf5f5"
   },
   "source": [
    "### Kmeans Sklearn"
   ]
  },
  {
   "cell_type": "code",
   "execution_count": 16,
   "id": "b734734d",
   "metadata": {
    "colab": {
     "base_uri": "https://localhost:8080/",
     "height": 311
    },
    "executionInfo": {
     "elapsed": 1844,
     "status": "ok",
     "timestamp": 1672373064227,
     "user": {
      "displayName": "miroalexander tiopan",
      "userId": "02347598650366603084"
     },
     "user_tz": -420
    },
    "id": "b734734d",
    "outputId": "f31a20e6-e6ce-465f-ab98-82092fc1f524"
   },
   "outputs": [
    {
     "data": {
      "image/png": "[encoded data removed]",
      "text/plain": [
       "<Figure size 800x550 with 2 Axes>"
      ]
     },
     "metadata": {},
     "output_type": "display_data"
    },
    {
     "data": {
      "text/plain": [
       "<Axes: title={'center': 'Distortion Score Elbow for KMeans Clustering'}, xlabel='k', ylabel='distortion score'>"
      ]
     },
     "execution_count": 16,
     "metadata": {},
     "output_type": "execute_result"
    }
   ],
   "source": [
    "model1 = KMeans(random_state=42)\n",
    "visualizer_SS = KElbowVisualizer(model1, k=(1,10))\n",
    "visualizer_SS.fit(SS_scaler)\n",
    "visualizer_SS.show()"
   ]
  },
  {
   "cell_type": "code",
   "execution_count": 17,
   "id": "2dca34ba",
   "metadata": {
    "colab": {
     "base_uri": "https://localhost:8080/"
    },
    "executionInfo": {
     "elapsed": 1990,
     "status": "ok",
     "timestamp": 1672373066213,
     "user": {
      "displayName": "miroalexander tiopan",
      "userId": "02347598650366603084"
     },
     "user_tz": -420
    },
    "id": "2dca34ba",
    "outputId": "eecf3283-5044-4dbe-875b-1990d3da20f0"
   },
   "outputs": [],
   "source": [
    "wcss = []\n",
    "for i in range(1,10):\n",
    "    kmeans = KMeans(i)\n",
    "    kmeans.fit(SS_scaler)\n",
    "    wcss_iter = kmeans.inertia_\n",
    "    wcss.append(wcss_iter)"
   ]
  },
  {
   "cell_type": "code",
   "execution_count": 18,
   "id": "03f41cb7-91c7-4656-b61c-1fd601f35f12",
   "metadata": {},
   "outputs": [
    {
     "data": {
      "text/plain": [
       "[500.00000000000006,\n",
       " 300.3251532326175,\n",
       " 215.69324974452732,\n",
       " 176.59097642750754,\n",
       " 156.1562562359258,\n",
       " 138.11418820979767,\n",
       " 125.25822934747609,\n",
       " 114.20150835267589,\n",
       " 107.92980498098848]"
      ]
     },
     "execution_count": 18,
     "metadata": {},
     "output_type": "execute_result"
    }
   ],
   "source": [
    "wcss"
   ]
  },
  {
   "cell_type": "code",
   "execution_count": 19,
   "id": "3d5c57eb",
   "metadata": {
    "colab": {
     "base_uri": "https://localhost:8080/"
    },
    "executionInfo": {
     "elapsed": 35,
     "status": "ok",
     "timestamp": 1672373066213,
     "user": {
      "displayName": "miroalexander tiopan",
      "userId": "02347598650366603084"
     },
     "user_tz": -420
    },
    "id": "3d5c57eb",
    "outputId": "2014641f-b6af-4433-f6e3-af62d1691bf0"
   },
   "outputs": [
    {
     "data": {
      "text/plain": [
       "3"
      ]
     },
     "execution_count": 19,
     "metadata": {},
     "output_type": "execute_result"
    }
   ],
   "source": [
    "visualizer_SS.elbow_value_"
   ]
  },
  {
   "cell_type": "code",
   "execution_count": 20,
   "id": "e3136d11",
   "metadata": {
    "id": "e3136d11"
   },
   "outputs": [],
   "source": [
    "model_Kmeans_SS = KMeans(visualizer_SS.elbow_value_, random_state=42)\n",
    "labels_SS = model_Kmeans_SS.fit_predict(SS_scaler)"
   ]
  },
  {
   "cell_type": "code",
   "execution_count": 21,
   "id": "cfda4842",
   "metadata": {
    "colab": {
     "base_uri": "https://localhost:8080/",
     "height": 424
    },
    "executionInfo": {
     "elapsed": 33,
     "status": "ok",
     "timestamp": 1672373066214,
     "user": {
      "displayName": "miroalexander tiopan",
      "userId": "02347598650366603084"
     },
     "user_tz": -420
    },
    "id": "cfda4842",
    "outputId": "e1661890-c608-4f6e-d9d0-d2151f784c86"
   },
   "outputs": [
    {
     "data": {
      "text/html": [
       "<div>\n",
       "<style scoped>\n",
       "    .dataframe tbody tr th:only-of-type {\n",
       "        vertical-align: middle;\n",
       "    }\n",
       "\n",
       "    .dataframe tbody tr th {\n",
       "        vertical-align: top;\n",
       "    }\n",
       "\n",
       "    .dataframe thead th {\n",
       "        text-align: right;\n",
       "    }\n",
       "</style>\n",
       "<table border=\"1\" class=\"dataframe\">\n",
       "  <thead>\n",
       "    <tr style=\"text-align: right;\">\n",
       "      <th></th>\n",
       "      <th>Penyimpanan</th>\n",
       "      <th>Harga</th>\n",
       "      <th>Barang Masuk</th>\n",
       "      <th>Barang Keluar</th>\n",
       "      <th>Stok Barang</th>\n",
       "      <th>label</th>\n",
       "    </tr>\n",
       "  </thead>\n",
       "  <tbody>\n",
       "    <tr>\n",
       "      <th>0</th>\n",
       "      <td>-0.942673</td>\n",
       "      <td>-0.950814</td>\n",
       "      <td>2.678981</td>\n",
       "      <td>1.767811</td>\n",
       "      <td>2.427496</td>\n",
       "      <td>0</td>\n",
       "    </tr>\n",
       "    <tr>\n",
       "      <th>1</th>\n",
       "      <td>-0.942673</td>\n",
       "      <td>-0.867480</td>\n",
       "      <td>1.478413</td>\n",
       "      <td>0.595782</td>\n",
       "      <td>2.058014</td>\n",
       "      <td>0</td>\n",
       "    </tr>\n",
       "    <tr>\n",
       "      <th>2</th>\n",
       "      <td>-0.112353</td>\n",
       "      <td>-0.569855</td>\n",
       "      <td>2.164452</td>\n",
       "      <td>1.572473</td>\n",
       "      <td>1.688532</td>\n",
       "      <td>0</td>\n",
       "    </tr>\n",
       "    <tr>\n",
       "      <th>3</th>\n",
       "      <td>-0.112353</td>\n",
       "      <td>0.157538</td>\n",
       "      <td>-0.579703</td>\n",
       "      <td>-0.380910</td>\n",
       "      <td>-0.528359</td>\n",
       "      <td>2</td>\n",
       "    </tr>\n",
       "    <tr>\n",
       "      <th>4</th>\n",
       "      <td>-0.942673</td>\n",
       "      <td>-0.034132</td>\n",
       "      <td>-0.408193</td>\n",
       "      <td>-0.576248</td>\n",
       "      <td>0.210605</td>\n",
       "      <td>2</td>\n",
       "    </tr>\n",
       "    <tr>\n",
       "      <th>...</th>\n",
       "      <td>...</td>\n",
       "      <td>...</td>\n",
       "      <td>...</td>\n",
       "      <td>...</td>\n",
       "      <td>...</td>\n",
       "      <td>...</td>\n",
       "    </tr>\n",
       "    <tr>\n",
       "      <th>95</th>\n",
       "      <td>1.548288</td>\n",
       "      <td>-0.272231</td>\n",
       "      <td>0.106336</td>\n",
       "      <td>0.205105</td>\n",
       "      <td>-0.158877</td>\n",
       "      <td>1</td>\n",
       "    </tr>\n",
       "    <tr>\n",
       "      <th>96</th>\n",
       "      <td>-0.942673</td>\n",
       "      <td>-0.688905</td>\n",
       "      <td>1.992943</td>\n",
       "      <td>2.353825</td>\n",
       "      <td>-0.158877</td>\n",
       "      <td>0</td>\n",
       "    </tr>\n",
       "    <tr>\n",
       "      <th>97</th>\n",
       "      <td>-0.112353</td>\n",
       "      <td>-0.569855</td>\n",
       "      <td>1.306904</td>\n",
       "      <td>1.181796</td>\n",
       "      <td>0.580087</td>\n",
       "      <td>0</td>\n",
       "    </tr>\n",
       "    <tr>\n",
       "      <th>98</th>\n",
       "      <td>-1.747046</td>\n",
       "      <td>-2.274647</td>\n",
       "      <td>1.992943</td>\n",
       "      <td>2.158487</td>\n",
       "      <td>0.210605</td>\n",
       "      <td>0</td>\n",
       "    </tr>\n",
       "    <tr>\n",
       "      <th>99</th>\n",
       "      <td>-1.357833</td>\n",
       "      <td>-1.581778</td>\n",
       "      <td>0.620865</td>\n",
       "      <td>0.205105</td>\n",
       "      <td>0.949569</td>\n",
       "      <td>2</td>\n",
       "    </tr>\n",
       "  </tbody>\n",
       "</table>\n",
       "<p>100 rows × 6 columns</p>\n",
       "</div>"
      ],
      "text/plain": [
       "    Penyimpanan     Harga  Barang Masuk  Barang Keluar  Stok Barang  label\n",
       "0     -0.942673 -0.950814      2.678981       1.767811     2.427496      0\n",
       "1     -0.942673 -0.867480      1.478413       0.595782     2.058014      0\n",
       "2     -0.112353 -0.569855      2.164452       1.572473     1.688532      0\n",
       "3     -0.112353  0.157538     -0.579703      -0.380910    -0.528359      2\n",
       "4     -0.942673 -0.034132     -0.408193      -0.576248     0.210605      2\n",
       "..          ...       ...           ...            ...          ...    ...\n",
       "95     1.548288 -0.272231      0.106336       0.205105    -0.158877      1\n",
       "96    -0.942673 -0.688905      1.992943       2.353825    -0.158877      0\n",
       "97    -0.112353 -0.569855      1.306904       1.181796     0.580087      0\n",
       "98    -1.747046 -2.274647      1.992943       2.158487     0.210605      0\n",
       "99    -1.357833 -1.581778      0.620865       0.205105     0.949569      2\n",
       "\n",
       "[100 rows x 6 columns]"
      ]
     },
     "execution_count": 21,
     "metadata": {},
     "output_type": "execute_result"
    }
   ],
   "source": [
    "SS_scaler['label'] = labels_SS\n",
    "SS_scaler"
   ]
  },
  {
   "cell_type": "markdown",
   "id": "265c63c1",
   "metadata": {
    "id": "265c63c1"
   },
   "source": [
    "### Evaluation"
   ]
  },
  {
   "cell_type": "code",
   "execution_count": 22,
   "id": "2b0d1f1c",
   "metadata": {
    "colab": {
     "base_uri": "https://localhost:8080/"
    },
    "executionInfo": {
     "elapsed": 32,
     "status": "ok",
     "timestamp": 1672373066215,
     "user": {
      "displayName": "miroalexander tiopan",
      "userId": "02347598650366603084"
     },
     "user_tz": -420
    },
    "id": "2b0d1f1c",
    "outputId": "5443bbf2-f445-4bcb-98b4-aa0f36e254d9"
   },
   "outputs": [
    {
     "name": "stdout",
     "output_type": "stream",
     "text": [
      "=========================using StandardScaler============================\n",
      "Davies-Bouldin index = 0.9168299110262531\n",
      "Silhouette Score     = 0.41207812687576073\n",
      "========================================================================\n",
      "\n"
     ]
    }
   ],
   "source": [
    "print(\"=========================using StandardScaler============================\")\n",
    "print(f'Davies-Bouldin index = {davies_bouldin_score(SS_scaler, labels_SS)}')\n",
    "print(f'Silhouette Score     = {silhouette_score(SS_scaler, labels_SS)}')\n",
    "print(\"========================================================================\\n\")"
   ]
  },
  {
   "cell_type": "code",
   "execution_count": 23,
   "id": "37227a73",
   "metadata": {
    "colab": {
     "base_uri": "https://localhost:8080/",
     "height": 424
    },
    "executionInfo": {
     "elapsed": 28,
     "status": "ok",
     "timestamp": 1672373066215,
     "user": {
      "displayName": "miroalexander tiopan",
      "userId": "02347598650366603084"
     },
     "user_tz": -420
    },
    "id": "37227a73",
    "outputId": "cf507423-a8f2-4cb5-bb4a-0a47a4621c7b"
   },
   "outputs": [
    {
     "data": {
      "text/html": [
       "<div>\n",
       "<style scoped>\n",
       "    .dataframe tbody tr th:only-of-type {\n",
       "        vertical-align: middle;\n",
       "    }\n",
       "\n",
       "    .dataframe tbody tr th {\n",
       "        vertical-align: top;\n",
       "    }\n",
       "\n",
       "    .dataframe thead th {\n",
       "        text-align: right;\n",
       "    }\n",
       "</style>\n",
       "<table border=\"1\" class=\"dataframe\">\n",
       "  <thead>\n",
       "    <tr style=\"text-align: right;\">\n",
       "      <th></th>\n",
       "      <th>Kode Barang</th>\n",
       "      <th>Merk</th>\n",
       "      <th>Type</th>\n",
       "      <th>Penyimpanan</th>\n",
       "      <th>Garansi</th>\n",
       "      <th>Harga</th>\n",
       "      <th>Barang Masuk</th>\n",
       "      <th>Barang Keluar</th>\n",
       "      <th>Stok Barang</th>\n",
       "      <th>label</th>\n",
       "    </tr>\n",
       "  </thead>\n",
       "  <tbody>\n",
       "    <tr>\n",
       "      <th>0</th>\n",
       "      <td>XI9A32</td>\n",
       "      <td>Xiaomi</td>\n",
       "      <td>9A</td>\n",
       "      <td>32</td>\n",
       "      <td>Resmi</td>\n",
       "      <td>1330000</td>\n",
       "      <td>30</td>\n",
       "      <td>18</td>\n",
       "      <td>12</td>\n",
       "      <td>0</td>\n",
       "    </tr>\n",
       "    <tr>\n",
       "      <th>1</th>\n",
       "      <td>XI9C32</td>\n",
       "      <td>Xiaomi</td>\n",
       "      <td>9C</td>\n",
       "      <td>32</td>\n",
       "      <td>Resmi</td>\n",
       "      <td>1400000</td>\n",
       "      <td>23</td>\n",
       "      <td>12</td>\n",
       "      <td>11</td>\n",
       "      <td>0</td>\n",
       "    </tr>\n",
       "    <tr>\n",
       "      <th>2</th>\n",
       "      <td>XI9C64</td>\n",
       "      <td>Xiaomi</td>\n",
       "      <td>9C</td>\n",
       "      <td>64</td>\n",
       "      <td>Resmi</td>\n",
       "      <td>1650000</td>\n",
       "      <td>27</td>\n",
       "      <td>17</td>\n",
       "      <td>10</td>\n",
       "      <td>0</td>\n",
       "    </tr>\n",
       "    <tr>\n",
       "      <th>3</th>\n",
       "      <td>XINO764</td>\n",
       "      <td>Xiaomi</td>\n",
       "      <td>Note 7</td>\n",
       "      <td>64</td>\n",
       "      <td>Resmi</td>\n",
       "      <td>2261000</td>\n",
       "      <td>11</td>\n",
       "      <td>7</td>\n",
       "      <td>4</td>\n",
       "      <td>2</td>\n",
       "    </tr>\n",
       "    <tr>\n",
       "      <th>4</th>\n",
       "      <td>XINO832</td>\n",
       "      <td>Xiaomi</td>\n",
       "      <td>Note 8</td>\n",
       "      <td>32</td>\n",
       "      <td>Resmi</td>\n",
       "      <td>2100000</td>\n",
       "      <td>12</td>\n",
       "      <td>6</td>\n",
       "      <td>6</td>\n",
       "      <td>2</td>\n",
       "    </tr>\n",
       "    <tr>\n",
       "      <th>...</th>\n",
       "      <td>...</td>\n",
       "      <td>...</td>\n",
       "      <td>...</td>\n",
       "      <td>...</td>\n",
       "      <td>...</td>\n",
       "      <td>...</td>\n",
       "      <td>...</td>\n",
       "      <td>...</td>\n",
       "      <td>...</td>\n",
       "      <td>...</td>\n",
       "    </tr>\n",
       "    <tr>\n",
       "      <th>95</th>\n",
       "      <td>INHO10S128</td>\n",
       "      <td>Infinix</td>\n",
       "      <td>Hot 10S</td>\n",
       "      <td>128</td>\n",
       "      <td>Resmi</td>\n",
       "      <td>1900000</td>\n",
       "      <td>15</td>\n",
       "      <td>10</td>\n",
       "      <td>5</td>\n",
       "      <td>1</td>\n",
       "    </tr>\n",
       "    <tr>\n",
       "      <th>96</th>\n",
       "      <td>INHO11P32</td>\n",
       "      <td>Infinix</td>\n",
       "      <td>Hot 11 Play</td>\n",
       "      <td>32</td>\n",
       "      <td>Resmi</td>\n",
       "      <td>1550000</td>\n",
       "      <td>26</td>\n",
       "      <td>21</td>\n",
       "      <td>5</td>\n",
       "      <td>0</td>\n",
       "    </tr>\n",
       "    <tr>\n",
       "      <th>97</th>\n",
       "      <td>INHO11P64</td>\n",
       "      <td>Infinix</td>\n",
       "      <td>Hot 11 Play</td>\n",
       "      <td>64</td>\n",
       "      <td>Resmi</td>\n",
       "      <td>1650000</td>\n",
       "      <td>22</td>\n",
       "      <td>15</td>\n",
       "      <td>7</td>\n",
       "      <td>0</td>\n",
       "    </tr>\n",
       "    <tr>\n",
       "      <th>98</th>\n",
       "      <td>NO1051</td>\n",
       "      <td>Nokia</td>\n",
       "      <td>Nokia   105</td>\n",
       "      <td>1</td>\n",
       "      <td>Resmi</td>\n",
       "      <td>218000</td>\n",
       "      <td>26</td>\n",
       "      <td>20</td>\n",
       "      <td>6</td>\n",
       "      <td>0</td>\n",
       "    </tr>\n",
       "    <tr>\n",
       "      <th>99</th>\n",
       "      <td>MEM616</td>\n",
       "      <td>Meizu</td>\n",
       "      <td>Meizu M6</td>\n",
       "      <td>16</td>\n",
       "      <td>Resmi</td>\n",
       "      <td>800000</td>\n",
       "      <td>18</td>\n",
       "      <td>10</td>\n",
       "      <td>8</td>\n",
       "      <td>2</td>\n",
       "    </tr>\n",
       "  </tbody>\n",
       "</table>\n",
       "<p>100 rows × 10 columns</p>\n",
       "</div>"
      ],
      "text/plain": [
       "   Kode Barang     Merk         Type  Penyimpanan Garansi    Harga  \\\n",
       "0       XI9A32   Xiaomi           9A           32   Resmi  1330000   \n",
       "1       XI9C32   Xiaomi           9C           32   Resmi  1400000   \n",
       "2       XI9C64   Xiaomi           9C           64   Resmi  1650000   \n",
       "3      XINO764   Xiaomi       Note 7           64   Resmi  2261000   \n",
       "4      XINO832   Xiaomi       Note 8           32   Resmi  2100000   \n",
       "..         ...      ...          ...          ...     ...      ...   \n",
       "95  INHO10S128  Infinix      Hot 10S          128   Resmi  1900000   \n",
       "96   INHO11P32  Infinix  Hot 11 Play           32   Resmi  1550000   \n",
       "97   INHO11P64  Infinix  Hot 11 Play           64   Resmi  1650000   \n",
       "98      NO1051    Nokia  Nokia   105            1   Resmi   218000   \n",
       "99      MEM616    Meizu     Meizu M6           16   Resmi   800000   \n",
       "\n",
       "    Barang Masuk  Barang Keluar  Stok Barang  label  \n",
       "0             30             18           12      0  \n",
       "1             23             12           11      0  \n",
       "2             27             17           10      0  \n",
       "3             11              7            4      2  \n",
       "4             12              6            6      2  \n",
       "..           ...            ...          ...    ...  \n",
       "95            15             10            5      1  \n",
       "96            26             21            5      0  \n",
       "97            22             15            7      0  \n",
       "98            26             20            6      0  \n",
       "99            18             10            8      2  \n",
       "\n",
       "[100 rows x 10 columns]"
      ]
     },
     "execution_count": 23,
     "metadata": {},
     "output_type": "execute_result"
    }
   ],
   "source": [
    "df['label'] = labels_SS\n",
    "df"
   ]
  },
  {
   "cell_type": "code",
   "execution_count": 24,
   "id": "1c55fb9a",
   "metadata": {
    "colab": {
     "base_uri": "https://localhost:8080/"
    },
    "executionInfo": {
     "elapsed": 28,
     "status": "ok",
     "timestamp": 1672373066216,
     "user": {
      "displayName": "miroalexander tiopan",
      "userId": "02347598650366603084"
     },
     "user_tz": -420
    },
    "id": "1c55fb9a",
    "outputId": "9e20c538-ddfb-4449-aa3f-710fb9ac6849"
   },
   "outputs": [
    {
     "data": {
      "text/plain": [
       "array([0, 2, 1])"
      ]
     },
     "execution_count": 24,
     "metadata": {},
     "output_type": "execute_result"
    }
   ],
   "source": [
    "df['label'].unique()"
   ]
  },
  {
   "cell_type": "code",
   "execution_count": 25,
   "id": "8a1702c2",
   "metadata": {
    "colab": {
     "base_uri": "https://localhost:8080/",
     "height": 294
    },
    "executionInfo": {
     "elapsed": 24,
     "status": "ok",
     "timestamp": 1672373066216,
     "user": {
      "displayName": "miroalexander tiopan",
      "userId": "02347598650366603084"
     },
     "user_tz": -420
    },
    "id": "8a1702c2",
    "outputId": "7b589e92-8a0c-4ea4-c9af-25e0de0a5f78"
   },
   "outputs": [
    {
     "data": {
      "image/png": "[encoded data removed]",
      "text/plain": [
       "<Figure size 800x400 with 1 Axes>"
      ]
     },
     "metadata": {},
     "output_type": "display_data"
    }
   ],
   "source": [
    "x = pd.Series(SS_scaler.label).value_counts().sort_index().reset_index()\n",
    "x.columns = ['Cluster Label', 'Num of Data']\n",
    "plt.figure(figsize=(8,4))\n",
    "plt.title(\"Num of Samples in Each Cluster\")\n",
    "ax = sns.barplot(data=x, x='Cluster Label', y='Num of Data')\n",
    "for i in ax.patches:\n",
    "        ax.annotate(format(i.get_height()), (i.get_x() + i.get_width()/2.,i.get_height()),\n",
    "               ha='center',va='center',xytext=(0,7), textcoords='offset points')"
   ]
  },
  {
   "cell_type": "code",
   "execution_count": 26,
   "id": "02ca5d50",
   "metadata": {
    "colab": {
     "base_uri": "https://localhost:8080/",
     "height": 708
    },
    "executionInfo": {
     "elapsed": 23,
     "status": "ok",
     "timestamp": 1672373066216,
     "user": {
      "displayName": "miroalexander tiopan",
      "userId": "02347598650366603084"
     },
     "user_tz": -420
    },
    "id": "02ca5d50",
    "outputId": "f88b22f0-02b3-48e7-9bb8-382f10c2c497"
   },
   "outputs": [
    {
     "data": {
      "text/html": [
       "<div>\n",
       "<style scoped>\n",
       "    .dataframe tbody tr th:only-of-type {\n",
       "        vertical-align: middle;\n",
       "    }\n",
       "\n",
       "    .dataframe tbody tr th {\n",
       "        vertical-align: top;\n",
       "    }\n",
       "\n",
       "    .dataframe thead th {\n",
       "        text-align: right;\n",
       "    }\n",
       "</style>\n",
       "<table border=\"1\" class=\"dataframe\">\n",
       "  <thead>\n",
       "    <tr style=\"text-align: right;\">\n",
       "      <th></th>\n",
       "      <th>Kode Barang</th>\n",
       "      <th>Merk</th>\n",
       "      <th>Type</th>\n",
       "      <th>Penyimpanan</th>\n",
       "      <th>Garansi</th>\n",
       "      <th>Harga</th>\n",
       "      <th>Barang Masuk</th>\n",
       "      <th>Barang Keluar</th>\n",
       "      <th>Stok Barang</th>\n",
       "      <th>label</th>\n",
       "    </tr>\n",
       "  </thead>\n",
       "  <tbody>\n",
       "    <tr>\n",
       "      <th>0</th>\n",
       "      <td>XI9A32</td>\n",
       "      <td>Xiaomi</td>\n",
       "      <td>9A</td>\n",
       "      <td>32</td>\n",
       "      <td>Resmi</td>\n",
       "      <td>1330000</td>\n",
       "      <td>30</td>\n",
       "      <td>18</td>\n",
       "      <td>12</td>\n",
       "      <td>0</td>\n",
       "    </tr>\n",
       "    <tr>\n",
       "      <th>1</th>\n",
       "      <td>XI9C32</td>\n",
       "      <td>Xiaomi</td>\n",
       "      <td>9C</td>\n",
       "      <td>32</td>\n",
       "      <td>Resmi</td>\n",
       "      <td>1400000</td>\n",
       "      <td>23</td>\n",
       "      <td>12</td>\n",
       "      <td>11</td>\n",
       "      <td>0</td>\n",
       "    </tr>\n",
       "    <tr>\n",
       "      <th>2</th>\n",
       "      <td>XI9C64</td>\n",
       "      <td>Xiaomi</td>\n",
       "      <td>9C</td>\n",
       "      <td>64</td>\n",
       "      <td>Resmi</td>\n",
       "      <td>1650000</td>\n",
       "      <td>27</td>\n",
       "      <td>17</td>\n",
       "      <td>10</td>\n",
       "      <td>0</td>\n",
       "    </tr>\n",
       "    <tr>\n",
       "      <th>17</th>\n",
       "      <td>XIRE1064</td>\n",
       "      <td>Xiaomi</td>\n",
       "      <td>Redmi 10</td>\n",
       "      <td>64</td>\n",
       "      <td>Resmi</td>\n",
       "      <td>2200000</td>\n",
       "      <td>21</td>\n",
       "      <td>14</td>\n",
       "      <td>7</td>\n",
       "      <td>0</td>\n",
       "    </tr>\n",
       "    <tr>\n",
       "      <th>22</th>\n",
       "      <td>SAA10S32</td>\n",
       "      <td>Samsung</td>\n",
       "      <td>A10S</td>\n",
       "      <td>32</td>\n",
       "      <td>Resmi</td>\n",
       "      <td>1550000</td>\n",
       "      <td>19</td>\n",
       "      <td>15</td>\n",
       "      <td>4</td>\n",
       "      <td>0</td>\n",
       "    </tr>\n",
       "    <tr>\n",
       "      <th>38</th>\n",
       "      <td>SAKEY1</td>\n",
       "      <td>Samsung</td>\n",
       "      <td>Keystone</td>\n",
       "      <td>1</td>\n",
       "      <td>Resmi</td>\n",
       "      <td>205000</td>\n",
       "      <td>20</td>\n",
       "      <td>13</td>\n",
       "      <td>7</td>\n",
       "      <td>0</td>\n",
       "    </tr>\n",
       "    <tr>\n",
       "      <th>46</th>\n",
       "      <td>OPA1532</td>\n",
       "      <td>Oppo</td>\n",
       "      <td>A15</td>\n",
       "      <td>32</td>\n",
       "      <td>Distributor</td>\n",
       "      <td>1800000</td>\n",
       "      <td>18</td>\n",
       "      <td>14</td>\n",
       "      <td>4</td>\n",
       "      <td>0</td>\n",
       "    </tr>\n",
       "    <tr>\n",
       "      <th>61</th>\n",
       "      <td>REC232</td>\n",
       "      <td>Realme</td>\n",
       "      <td>C2</td>\n",
       "      <td>32</td>\n",
       "      <td>Resmi</td>\n",
       "      <td>1425000</td>\n",
       "      <td>20</td>\n",
       "      <td>18</td>\n",
       "      <td>2</td>\n",
       "      <td>0</td>\n",
       "    </tr>\n",
       "    <tr>\n",
       "      <th>63</th>\n",
       "      <td>REC1132</td>\n",
       "      <td>Realme</td>\n",
       "      <td>C11</td>\n",
       "      <td>32</td>\n",
       "      <td>Resmi</td>\n",
       "      <td>1475000</td>\n",
       "      <td>21</td>\n",
       "      <td>15</td>\n",
       "      <td>6</td>\n",
       "      <td>0</td>\n",
       "    </tr>\n",
       "    <tr>\n",
       "      <th>65</th>\n",
       "      <td>REC25Y64</td>\n",
       "      <td>Realme</td>\n",
       "      <td>C25Y</td>\n",
       "      <td>64</td>\n",
       "      <td>Resmi</td>\n",
       "      <td>1800000</td>\n",
       "      <td>25</td>\n",
       "      <td>19</td>\n",
       "      <td>6</td>\n",
       "      <td>0</td>\n",
       "    </tr>\n",
       "    <tr>\n",
       "      <th>66</th>\n",
       "      <td>REC25S128</td>\n",
       "      <td>Realme</td>\n",
       "      <td>C25S</td>\n",
       "      <td>128</td>\n",
       "      <td>Resmi</td>\n",
       "      <td>1950000</td>\n",
       "      <td>26</td>\n",
       "      <td>20</td>\n",
       "      <td>6</td>\n",
       "      <td>0</td>\n",
       "    </tr>\n",
       "    <tr>\n",
       "      <th>67</th>\n",
       "      <td>RENA50i64</td>\n",
       "      <td>Realme</td>\n",
       "      <td>NARZO 50i</td>\n",
       "      <td>64</td>\n",
       "      <td>Resmi</td>\n",
       "      <td>1550000</td>\n",
       "      <td>19</td>\n",
       "      <td>17</td>\n",
       "      <td>2</td>\n",
       "      <td>0</td>\n",
       "    </tr>\n",
       "    <tr>\n",
       "      <th>84</th>\n",
       "      <td>INSM532</td>\n",
       "      <td>Infinix</td>\n",
       "      <td>Smart 5</td>\n",
       "      <td>32</td>\n",
       "      <td>Resmi</td>\n",
       "      <td>1112000</td>\n",
       "      <td>24</td>\n",
       "      <td>19</td>\n",
       "      <td>5</td>\n",
       "      <td>0</td>\n",
       "    </tr>\n",
       "    <tr>\n",
       "      <th>87</th>\n",
       "      <td>INHO932</td>\n",
       "      <td>Infinix</td>\n",
       "      <td>Hot 9</td>\n",
       "      <td>32</td>\n",
       "      <td>Resmi</td>\n",
       "      <td>1400000</td>\n",
       "      <td>18</td>\n",
       "      <td>14</td>\n",
       "      <td>4</td>\n",
       "      <td>0</td>\n",
       "    </tr>\n",
       "    <tr>\n",
       "      <th>89</th>\n",
       "      <td>INHO9P32</td>\n",
       "      <td>Infinix</td>\n",
       "      <td>Hot 9 Play</td>\n",
       "      <td>32</td>\n",
       "      <td>Resmi</td>\n",
       "      <td>1225000</td>\n",
       "      <td>18</td>\n",
       "      <td>14</td>\n",
       "      <td>4</td>\n",
       "      <td>0</td>\n",
       "    </tr>\n",
       "    <tr>\n",
       "      <th>90</th>\n",
       "      <td>INHO9P64</td>\n",
       "      <td>Infinix</td>\n",
       "      <td>Hot 9 Play</td>\n",
       "      <td>64</td>\n",
       "      <td>Resmi</td>\n",
       "      <td>1515000</td>\n",
       "      <td>23</td>\n",
       "      <td>20</td>\n",
       "      <td>3</td>\n",
       "      <td>0</td>\n",
       "    </tr>\n",
       "    <tr>\n",
       "      <th>93</th>\n",
       "      <td>INHO10P32</td>\n",
       "      <td>Infinix</td>\n",
       "      <td>Hot 10 Play</td>\n",
       "      <td>32</td>\n",
       "      <td>Resmi</td>\n",
       "      <td>1400000</td>\n",
       "      <td>27</td>\n",
       "      <td>25</td>\n",
       "      <td>2</td>\n",
       "      <td>0</td>\n",
       "    </tr>\n",
       "    <tr>\n",
       "      <th>94</th>\n",
       "      <td>INHO10P64</td>\n",
       "      <td>Infinix</td>\n",
       "      <td>Hot 10 Play</td>\n",
       "      <td>64</td>\n",
       "      <td>Resmi</td>\n",
       "      <td>1600000</td>\n",
       "      <td>27</td>\n",
       "      <td>19</td>\n",
       "      <td>8</td>\n",
       "      <td>0</td>\n",
       "    </tr>\n",
       "    <tr>\n",
       "      <th>96</th>\n",
       "      <td>INHO11P32</td>\n",
       "      <td>Infinix</td>\n",
       "      <td>Hot 11 Play</td>\n",
       "      <td>32</td>\n",
       "      <td>Resmi</td>\n",
       "      <td>1550000</td>\n",
       "      <td>26</td>\n",
       "      <td>21</td>\n",
       "      <td>5</td>\n",
       "      <td>0</td>\n",
       "    </tr>\n",
       "    <tr>\n",
       "      <th>97</th>\n",
       "      <td>INHO11P64</td>\n",
       "      <td>Infinix</td>\n",
       "      <td>Hot 11 Play</td>\n",
       "      <td>64</td>\n",
       "      <td>Resmi</td>\n",
       "      <td>1650000</td>\n",
       "      <td>22</td>\n",
       "      <td>15</td>\n",
       "      <td>7</td>\n",
       "      <td>0</td>\n",
       "    </tr>\n",
       "    <tr>\n",
       "      <th>98</th>\n",
       "      <td>NO1051</td>\n",
       "      <td>Nokia</td>\n",
       "      <td>Nokia   105</td>\n",
       "      <td>1</td>\n",
       "      <td>Resmi</td>\n",
       "      <td>218000</td>\n",
       "      <td>26</td>\n",
       "      <td>20</td>\n",
       "      <td>6</td>\n",
       "      <td>0</td>\n",
       "    </tr>\n",
       "  </tbody>\n",
       "</table>\n",
       "</div>"
      ],
      "text/plain": [
       "   Kode Barang     Merk         Type  Penyimpanan      Garansi    Harga  \\\n",
       "0       XI9A32   Xiaomi           9A           32        Resmi  1330000   \n",
       "1       XI9C32   Xiaomi           9C           32        Resmi  1400000   \n",
       "2       XI9C64   Xiaomi           9C           64        Resmi  1650000   \n",
       "17    XIRE1064   Xiaomi     Redmi 10           64        Resmi  2200000   \n",
       "22    SAA10S32  Samsung         A10S           32        Resmi  1550000   \n",
       "38      SAKEY1  Samsung     Keystone            1        Resmi   205000   \n",
       "46     OPA1532     Oppo          A15           32  Distributor  1800000   \n",
       "61      REC232   Realme           C2           32        Resmi  1425000   \n",
       "63     REC1132   Realme          C11           32        Resmi  1475000   \n",
       "65    REC25Y64   Realme         C25Y           64        Resmi  1800000   \n",
       "66   REC25S128   Realme         C25S          128        Resmi  1950000   \n",
       "67   RENA50i64   Realme    NARZO 50i           64        Resmi  1550000   \n",
       "84     INSM532  Infinix      Smart 5           32        Resmi  1112000   \n",
       "87     INHO932  Infinix        Hot 9           32        Resmi  1400000   \n",
       "89    INHO9P32  Infinix   Hot 9 Play           32        Resmi  1225000   \n",
       "90    INHO9P64  Infinix   Hot 9 Play           64        Resmi  1515000   \n",
       "93   INHO10P32  Infinix  Hot 10 Play           32        Resmi  1400000   \n",
       "94   INHO10P64  Infinix  Hot 10 Play           64        Resmi  1600000   \n",
       "96   INHO11P32  Infinix  Hot 11 Play           32        Resmi  1550000   \n",
       "97   INHO11P64  Infinix  Hot 11 Play           64        Resmi  1650000   \n",
       "98      NO1051    Nokia  Nokia   105            1        Resmi   218000   \n",
       "\n",
       "    Barang Masuk  Barang Keluar  Stok Barang  label  \n",
       "0             30             18           12      0  \n",
       "1             23             12           11      0  \n",
       "2             27             17           10      0  \n",
       "17            21             14            7      0  \n",
       "22            19             15            4      0  \n",
       "38            20             13            7      0  \n",
       "46            18             14            4      0  \n",
       "61            20             18            2      0  \n",
       "63            21             15            6      0  \n",
       "65            25             19            6      0  \n",
       "66            26             20            6      0  \n",
       "67            19             17            2      0  \n",
       "84            24             19            5      0  \n",
       "87            18             14            4      0  \n",
       "89            18             14            4      0  \n",
       "90            23             20            3      0  \n",
       "93            27             25            2      0  \n",
       "94            27             19            8      0  \n",
       "96            26             21            5      0  \n",
       "97            22             15            7      0  \n",
       "98            26             20            6      0  "
      ]
     },
     "execution_count": 26,
     "metadata": {},
     "output_type": "execute_result"
    }
   ],
   "source": [
    "cluster0 = df[df['label']==0]\n",
    "cluster0"
   ]
  },
  {
   "cell_type": "code",
   "execution_count": 27,
   "id": "77da9b16",
   "metadata": {
    "colab": {
     "base_uri": "https://localhost:8080/",
     "height": 927
    },
    "executionInfo": {
     "elapsed": 22,
     "status": "ok",
     "timestamp": 1672373066216,
     "user": {
      "displayName": "miroalexander tiopan",
      "userId": "02347598650366603084"
     },
     "user_tz": -420
    },
    "id": "77da9b16",
    "outputId": "b47f5028-0e0d-4e12-9ee2-301aa82930ba"
   },
   "outputs": [
    {
     "data": {
      "text/html": [
       "<div>\n",
       "<style scoped>\n",
       "    .dataframe tbody tr th:only-of-type {\n",
       "        vertical-align: middle;\n",
       "    }\n",
       "\n",
       "    .dataframe tbody tr th {\n",
       "        vertical-align: top;\n",
       "    }\n",
       "\n",
       "    .dataframe thead th {\n",
       "        text-align: right;\n",
       "    }\n",
       "</style>\n",
       "<table border=\"1\" class=\"dataframe\">\n",
       "  <thead>\n",
       "    <tr style=\"text-align: right;\">\n",
       "      <th></th>\n",
       "      <th>Kode Barang</th>\n",
       "      <th>Merk</th>\n",
       "      <th>Type</th>\n",
       "      <th>Penyimpanan</th>\n",
       "      <th>Garansi</th>\n",
       "      <th>Harga</th>\n",
       "      <th>Barang Masuk</th>\n",
       "      <th>Barang Keluar</th>\n",
       "      <th>Stok Barang</th>\n",
       "      <th>label</th>\n",
       "    </tr>\n",
       "  </thead>\n",
       "  <tbody>\n",
       "    <tr>\n",
       "      <th>6</th>\n",
       "      <td>XINO8128</td>\n",
       "      <td>Xiaomi</td>\n",
       "      <td>Note 8</td>\n",
       "      <td>128</td>\n",
       "      <td>Resmi</td>\n",
       "      <td>3500000</td>\n",
       "      <td>8</td>\n",
       "      <td>6</td>\n",
       "      <td>2</td>\n",
       "      <td>1</td>\n",
       "    </tr>\n",
       "    <tr>\n",
       "      <th>8</th>\n",
       "      <td>XINO9128</td>\n",
       "      <td>Xiaomi</td>\n",
       "      <td>Note 9</td>\n",
       "      <td>128</td>\n",
       "      <td>Resmi</td>\n",
       "      <td>2425000</td>\n",
       "      <td>9</td>\n",
       "      <td>7</td>\n",
       "      <td>2</td>\n",
       "      <td>1</td>\n",
       "    </tr>\n",
       "    <tr>\n",
       "      <th>11</th>\n",
       "      <td>XINO10S128</td>\n",
       "      <td>Xiaomi</td>\n",
       "      <td>Note 10S</td>\n",
       "      <td>128</td>\n",
       "      <td>Resmi</td>\n",
       "      <td>2900000</td>\n",
       "      <td>13</td>\n",
       "      <td>11</td>\n",
       "      <td>2</td>\n",
       "      <td>1</td>\n",
       "    </tr>\n",
       "    <tr>\n",
       "      <th>13</th>\n",
       "      <td>XIPOX3128</td>\n",
       "      <td>Xiaomi</td>\n",
       "      <td>Poco X3</td>\n",
       "      <td>128</td>\n",
       "      <td>Resmi</td>\n",
       "      <td>3650000</td>\n",
       "      <td>6</td>\n",
       "      <td>3</td>\n",
       "      <td>3</td>\n",
       "      <td>1</td>\n",
       "    </tr>\n",
       "    <tr>\n",
       "      <th>18</th>\n",
       "      <td>XIRE10128</td>\n",
       "      <td>Xiaomi</td>\n",
       "      <td>Redmi 10</td>\n",
       "      <td>128</td>\n",
       "      <td>Resmi</td>\n",
       "      <td>2400000</td>\n",
       "      <td>12</td>\n",
       "      <td>7</td>\n",
       "      <td>5</td>\n",
       "      <td>1</td>\n",
       "    </tr>\n",
       "    <tr>\n",
       "      <th>29</th>\n",
       "      <td>SAA51128</td>\n",
       "      <td>Samsung</td>\n",
       "      <td>A51</td>\n",
       "      <td>128</td>\n",
       "      <td>Resmi</td>\n",
       "      <td>4600000</td>\n",
       "      <td>7</td>\n",
       "      <td>3</td>\n",
       "      <td>4</td>\n",
       "      <td>1</td>\n",
       "    </tr>\n",
       "    <tr>\n",
       "      <th>30</th>\n",
       "      <td>SAA52128</td>\n",
       "      <td>Samsung</td>\n",
       "      <td>A52</td>\n",
       "      <td>128</td>\n",
       "      <td>Resmi</td>\n",
       "      <td>4800000</td>\n",
       "      <td>7</td>\n",
       "      <td>5</td>\n",
       "      <td>2</td>\n",
       "      <td>1</td>\n",
       "    </tr>\n",
       "    <tr>\n",
       "      <th>34</th>\n",
       "      <td>SAM2164</td>\n",
       "      <td>Samsung</td>\n",
       "      <td>M21</td>\n",
       "      <td>64</td>\n",
       "      <td>Resmi</td>\n",
       "      <td>2580000</td>\n",
       "      <td>8</td>\n",
       "      <td>5</td>\n",
       "      <td>3</td>\n",
       "      <td>1</td>\n",
       "    </tr>\n",
       "    <tr>\n",
       "      <th>36</th>\n",
       "      <td>SAM30S64</td>\n",
       "      <td>Samsung</td>\n",
       "      <td>M30S</td>\n",
       "      <td>64</td>\n",
       "      <td>Resmi</td>\n",
       "      <td>2850000</td>\n",
       "      <td>6</td>\n",
       "      <td>2</td>\n",
       "      <td>4</td>\n",
       "      <td>1</td>\n",
       "    </tr>\n",
       "    <tr>\n",
       "      <th>37</th>\n",
       "      <td>SAM31128</td>\n",
       "      <td>Samsung</td>\n",
       "      <td>M31</td>\n",
       "      <td>128</td>\n",
       "      <td>Resmi</td>\n",
       "      <td>3636000</td>\n",
       "      <td>12</td>\n",
       "      <td>6</td>\n",
       "      <td>6</td>\n",
       "      <td>1</td>\n",
       "    </tr>\n",
       "    <tr>\n",
       "      <th>42</th>\n",
       "      <td>OPA5128</td>\n",
       "      <td>Oppo</td>\n",
       "      <td>A5</td>\n",
       "      <td>128</td>\n",
       "      <td>Distributor</td>\n",
       "      <td>2520000</td>\n",
       "      <td>9</td>\n",
       "      <td>6</td>\n",
       "      <td>3</td>\n",
       "      <td>1</td>\n",
       "    </tr>\n",
       "    <tr>\n",
       "      <th>47</th>\n",
       "      <td>OPA31128</td>\n",
       "      <td>Oppo</td>\n",
       "      <td>A31</td>\n",
       "      <td>128</td>\n",
       "      <td>Distributor</td>\n",
       "      <td>2340000</td>\n",
       "      <td>7</td>\n",
       "      <td>5</td>\n",
       "      <td>2</td>\n",
       "      <td>1</td>\n",
       "    </tr>\n",
       "    <tr>\n",
       "      <th>49</th>\n",
       "      <td>OPA5364</td>\n",
       "      <td>Oppo</td>\n",
       "      <td>A53</td>\n",
       "      <td>64</td>\n",
       "      <td>Distributor</td>\n",
       "      <td>2250000</td>\n",
       "      <td>5</td>\n",
       "      <td>3</td>\n",
       "      <td>2</td>\n",
       "      <td>1</td>\n",
       "    </tr>\n",
       "    <tr>\n",
       "      <th>50</th>\n",
       "      <td>OPA92128</td>\n",
       "      <td>Oppo</td>\n",
       "      <td>A92</td>\n",
       "      <td>128</td>\n",
       "      <td>Distributor</td>\n",
       "      <td>3600000</td>\n",
       "      <td>7</td>\n",
       "      <td>3</td>\n",
       "      <td>4</td>\n",
       "      <td>1</td>\n",
       "    </tr>\n",
       "    <tr>\n",
       "      <th>51</th>\n",
       "      <td>OPRE4128</td>\n",
       "      <td>Oppo</td>\n",
       "      <td>RENO 4</td>\n",
       "      <td>128</td>\n",
       "      <td>Distributor</td>\n",
       "      <td>4500000</td>\n",
       "      <td>17</td>\n",
       "      <td>14</td>\n",
       "      <td>3</td>\n",
       "      <td>1</td>\n",
       "    </tr>\n",
       "    <tr>\n",
       "      <th>54</th>\n",
       "      <td>RE5128</td>\n",
       "      <td>Realme</td>\n",
       "      <td>5</td>\n",
       "      <td>128</td>\n",
       "      <td>Resmi</td>\n",
       "      <td>2200000</td>\n",
       "      <td>7</td>\n",
       "      <td>4</td>\n",
       "      <td>3</td>\n",
       "      <td>1</td>\n",
       "    </tr>\n",
       "    <tr>\n",
       "      <th>55</th>\n",
       "      <td>RE6127</td>\n",
       "      <td>Realme</td>\n",
       "      <td>6</td>\n",
       "      <td>127</td>\n",
       "      <td>Resmi</td>\n",
       "      <td>2900000</td>\n",
       "      <td>12</td>\n",
       "      <td>5</td>\n",
       "      <td>7</td>\n",
       "      <td>1</td>\n",
       "    </tr>\n",
       "    <tr>\n",
       "      <th>57</th>\n",
       "      <td>RE7I64</td>\n",
       "      <td>Realme</td>\n",
       "      <td>7I</td>\n",
       "      <td>64</td>\n",
       "      <td>Resmi</td>\n",
       "      <td>2400000</td>\n",
       "      <td>8</td>\n",
       "      <td>6</td>\n",
       "      <td>2</td>\n",
       "      <td>1</td>\n",
       "    </tr>\n",
       "    <tr>\n",
       "      <th>58</th>\n",
       "      <td>RE7I128</td>\n",
       "      <td>Realme</td>\n",
       "      <td>7I</td>\n",
       "      <td>128</td>\n",
       "      <td>Resmi</td>\n",
       "      <td>2880000</td>\n",
       "      <td>10</td>\n",
       "      <td>2</td>\n",
       "      <td>8</td>\n",
       "      <td>1</td>\n",
       "    </tr>\n",
       "    <tr>\n",
       "      <th>60</th>\n",
       "      <td>RE8I128</td>\n",
       "      <td>Realme</td>\n",
       "      <td>8I</td>\n",
       "      <td>128</td>\n",
       "      <td>Resmi</td>\n",
       "      <td>2600000</td>\n",
       "      <td>9</td>\n",
       "      <td>7</td>\n",
       "      <td>2</td>\n",
       "      <td>1</td>\n",
       "    </tr>\n",
       "    <tr>\n",
       "      <th>68</th>\n",
       "      <td>VIS1128</td>\n",
       "      <td>Vivo</td>\n",
       "      <td>S1</td>\n",
       "      <td>128</td>\n",
       "      <td>Distributor</td>\n",
       "      <td>2700000</td>\n",
       "      <td>5</td>\n",
       "      <td>3</td>\n",
       "      <td>2</td>\n",
       "      <td>1</td>\n",
       "    </tr>\n",
       "    <tr>\n",
       "      <th>69</th>\n",
       "      <td>VIV19128</td>\n",
       "      <td>Vivo</td>\n",
       "      <td>V19</td>\n",
       "      <td>128</td>\n",
       "      <td>Distributor</td>\n",
       "      <td>3870000</td>\n",
       "      <td>7</td>\n",
       "      <td>5</td>\n",
       "      <td>2</td>\n",
       "      <td>1</td>\n",
       "    </tr>\n",
       "    <tr>\n",
       "      <th>70</th>\n",
       "      <td>VIV20128</td>\n",
       "      <td>Vivo</td>\n",
       "      <td>V20</td>\n",
       "      <td>128</td>\n",
       "      <td>Distributor</td>\n",
       "      <td>4400000</td>\n",
       "      <td>5</td>\n",
       "      <td>3</td>\n",
       "      <td>2</td>\n",
       "      <td>1</td>\n",
       "    </tr>\n",
       "    <tr>\n",
       "      <th>77</th>\n",
       "      <td>VIY19128</td>\n",
       "      <td>Vivo</td>\n",
       "      <td>Y19</td>\n",
       "      <td>128</td>\n",
       "      <td>Distributor</td>\n",
       "      <td>2700000</td>\n",
       "      <td>7</td>\n",
       "      <td>2</td>\n",
       "      <td>5</td>\n",
       "      <td>1</td>\n",
       "    </tr>\n",
       "    <tr>\n",
       "      <th>78</th>\n",
       "      <td>VIY20128</td>\n",
       "      <td>Vivo</td>\n",
       "      <td>Y20</td>\n",
       "      <td>128</td>\n",
       "      <td>Distributor</td>\n",
       "      <td>2790000</td>\n",
       "      <td>8</td>\n",
       "      <td>4</td>\n",
       "      <td>4</td>\n",
       "      <td>1</td>\n",
       "    </tr>\n",
       "    <tr>\n",
       "      <th>79</th>\n",
       "      <td>VIY30128</td>\n",
       "      <td>Vivo</td>\n",
       "      <td>Y30</td>\n",
       "      <td>128</td>\n",
       "      <td>Distributor</td>\n",
       "      <td>2520000</td>\n",
       "      <td>12</td>\n",
       "      <td>9</td>\n",
       "      <td>3</td>\n",
       "      <td>1</td>\n",
       "    </tr>\n",
       "    <tr>\n",
       "      <th>81</th>\n",
       "      <td>VIY50128</td>\n",
       "      <td>Vivo</td>\n",
       "      <td>Y50</td>\n",
       "      <td>128</td>\n",
       "      <td>Distributor</td>\n",
       "      <td>3150000</td>\n",
       "      <td>7</td>\n",
       "      <td>5</td>\n",
       "      <td>2</td>\n",
       "      <td>1</td>\n",
       "    </tr>\n",
       "    <tr>\n",
       "      <th>95</th>\n",
       "      <td>INHO10S128</td>\n",
       "      <td>Infinix</td>\n",
       "      <td>Hot 10S</td>\n",
       "      <td>128</td>\n",
       "      <td>Resmi</td>\n",
       "      <td>1900000</td>\n",
       "      <td>15</td>\n",
       "      <td>10</td>\n",
       "      <td>5</td>\n",
       "      <td>1</td>\n",
       "    </tr>\n",
       "  </tbody>\n",
       "</table>\n",
       "</div>"
      ],
      "text/plain": [
       "   Kode Barang     Merk      Type  Penyimpanan      Garansi    Harga  \\\n",
       "6     XINO8128   Xiaomi    Note 8          128        Resmi  3500000   \n",
       "8     XINO9128   Xiaomi    Note 9          128        Resmi  2425000   \n",
       "11  XINO10S128   Xiaomi  Note 10S          128        Resmi  2900000   \n",
       "13   XIPOX3128   Xiaomi   Poco X3          128        Resmi  3650000   \n",
       "18   XIRE10128   Xiaomi  Redmi 10          128        Resmi  2400000   \n",
       "29    SAA51128  Samsung       A51          128        Resmi  4600000   \n",
       "30    SAA52128  Samsung       A52          128        Resmi  4800000   \n",
       "34     SAM2164  Samsung       M21           64        Resmi  2580000   \n",
       "36    SAM30S64  Samsung      M30S           64        Resmi  2850000   \n",
       "37    SAM31128  Samsung       M31          128        Resmi  3636000   \n",
       "42     OPA5128     Oppo        A5          128  Distributor  2520000   \n",
       "47    OPA31128     Oppo       A31          128  Distributor  2340000   \n",
       "49     OPA5364     Oppo       A53           64  Distributor  2250000   \n",
       "50    OPA92128     Oppo       A92          128  Distributor  3600000   \n",
       "51    OPRE4128     Oppo    RENO 4          128  Distributor  4500000   \n",
       "54      RE5128   Realme         5          128        Resmi  2200000   \n",
       "55      RE6127   Realme         6          127        Resmi  2900000   \n",
       "57      RE7I64   Realme        7I           64        Resmi  2400000   \n",
       "58     RE7I128   Realme        7I          128        Resmi  2880000   \n",
       "60     RE8I128   Realme        8I          128        Resmi  2600000   \n",
       "68     VIS1128     Vivo        S1          128  Distributor  2700000   \n",
       "69    VIV19128     Vivo       V19          128  Distributor  3870000   \n",
       "70    VIV20128     Vivo       V20          128  Distributor  4400000   \n",
       "77    VIY19128     Vivo       Y19          128  Distributor  2700000   \n",
       "78    VIY20128     Vivo       Y20          128  Distributor  2790000   \n",
       "79    VIY30128     Vivo       Y30          128  Distributor  2520000   \n",
       "81    VIY50128     Vivo       Y50          128  Distributor  3150000   \n",
       "95  INHO10S128  Infinix   Hot 10S          128        Resmi  1900000   \n",
       "\n",
       "    Barang Masuk  Barang Keluar  Stok Barang  label  \n",
       "6              8              6            2      1  \n",
       "8              9              7            2      1  \n",
       "11            13             11            2      1  \n",
       "13             6              3            3      1  \n",
       "18            12              7            5      1  \n",
       "29             7              3            4      1  \n",
       "30             7              5            2      1  \n",
       "34             8              5            3      1  \n",
       "36             6              2            4      1  \n",
       "37            12              6            6      1  \n",
       "42             9              6            3      1  \n",
       "47             7              5            2      1  \n",
       "49             5              3            2      1  \n",
       "50             7              3            4      1  \n",
       "51            17             14            3      1  \n",
       "54             7              4            3      1  \n",
       "55            12              5            7      1  \n",
       "57             8              6            2      1  \n",
       "58            10              2            8      1  \n",
       "60             9              7            2      1  \n",
       "68             5              3            2      1  \n",
       "69             7              5            2      1  \n",
       "70             5              3            2      1  \n",
       "77             7              2            5      1  \n",
       "78             8              4            4      1  \n",
       "79            12              9            3      1  \n",
       "81             7              5            2      1  \n",
       "95            15             10            5      1  "
      ]
     },
     "execution_count": 27,
     "metadata": {},
     "output_type": "execute_result"
    }
   ],
   "source": [
    "cluster1 = df[df['label']==1]\n",
    "cluster1"
   ]
  },
  {
   "cell_type": "code",
   "execution_count": 28,
   "id": "841b46a7",
   "metadata": {
    "colab": {
     "base_uri": "https://localhost:8080/",
     "height": 1000
    },
    "executionInfo": {
     "elapsed": 22,
     "status": "ok",
     "timestamp": 1672373066217,
     "user": {
      "displayName": "miroalexander tiopan",
      "userId": "02347598650366603084"
     },
     "user_tz": -420
    },
    "id": "841b46a7",
    "outputId": "19040281-6f52-46b3-95b7-5979420dddf5"
   },
   "outputs": [
    {
     "data": {
      "text/html": [
       "<div>\n",
       "<style scoped>\n",
       "    .dataframe tbody tr th:only-of-type {\n",
       "        vertical-align: middle;\n",
       "    }\n",
       "\n",
       "    .dataframe tbody tr th {\n",
       "        vertical-align: top;\n",
       "    }\n",
       "\n",
       "    .dataframe thead th {\n",
       "        text-align: right;\n",
       "    }\n",
       "</style>\n",
       "<table border=\"1\" class=\"dataframe\">\n",
       "  <thead>\n",
       "    <tr style=\"text-align: right;\">\n",
       "      <th></th>\n",
       "      <th>Kode Barang</th>\n",
       "      <th>Merk</th>\n",
       "      <th>Type</th>\n",
       "      <th>Penyimpanan</th>\n",
       "      <th>Garansi</th>\n",
       "      <th>Harga</th>\n",
       "      <th>Barang Masuk</th>\n",
       "      <th>Barang Keluar</th>\n",
       "      <th>Stok Barang</th>\n",
       "      <th>label</th>\n",
       "    </tr>\n",
       "  </thead>\n",
       "  <tbody>\n",
       "    <tr>\n",
       "      <th>3</th>\n",
       "      <td>XINO764</td>\n",
       "      <td>Xiaomi</td>\n",
       "      <td>Note 7</td>\n",
       "      <td>64</td>\n",
       "      <td>Resmi</td>\n",
       "      <td>2261000</td>\n",
       "      <td>11</td>\n",
       "      <td>7</td>\n",
       "      <td>4</td>\n",
       "      <td>2</td>\n",
       "    </tr>\n",
       "    <tr>\n",
       "      <th>4</th>\n",
       "      <td>XINO832</td>\n",
       "      <td>Xiaomi</td>\n",
       "      <td>Note 8</td>\n",
       "      <td>32</td>\n",
       "      <td>Resmi</td>\n",
       "      <td>2100000</td>\n",
       "      <td>12</td>\n",
       "      <td>6</td>\n",
       "      <td>6</td>\n",
       "      <td>2</td>\n",
       "    </tr>\n",
       "    <tr>\n",
       "      <th>5</th>\n",
       "      <td>XINO864</td>\n",
       "      <td>Xiaomi</td>\n",
       "      <td>Note 8</td>\n",
       "      <td>64</td>\n",
       "      <td>Resmi</td>\n",
       "      <td>2300000</td>\n",
       "      <td>15</td>\n",
       "      <td>10</td>\n",
       "      <td>5</td>\n",
       "      <td>2</td>\n",
       "    </tr>\n",
       "    <tr>\n",
       "      <th>7</th>\n",
       "      <td>XINO964</td>\n",
       "      <td>Xiaomi</td>\n",
       "      <td>Note 9</td>\n",
       "      <td>64</td>\n",
       "      <td>Resmi</td>\n",
       "      <td>2150000</td>\n",
       "      <td>13</td>\n",
       "      <td>5</td>\n",
       "      <td>8</td>\n",
       "      <td>2</td>\n",
       "    </tr>\n",
       "    <tr>\n",
       "      <th>9</th>\n",
       "      <td>XINO1064</td>\n",
       "      <td>Xiaomi</td>\n",
       "      <td>Note 10</td>\n",
       "      <td>64</td>\n",
       "      <td>Resmi</td>\n",
       "      <td>2400000</td>\n",
       "      <td>16</td>\n",
       "      <td>9</td>\n",
       "      <td>7</td>\n",
       "      <td>2</td>\n",
       "    </tr>\n",
       "    <tr>\n",
       "      <th>10</th>\n",
       "      <td>XINO10S64</td>\n",
       "      <td>Xiaomi</td>\n",
       "      <td>Note 10S</td>\n",
       "      <td>64</td>\n",
       "      <td>Resmi</td>\n",
       "      <td>2750000</td>\n",
       "      <td>11</td>\n",
       "      <td>5</td>\n",
       "      <td>6</td>\n",
       "      <td>2</td>\n",
       "    </tr>\n",
       "    <tr>\n",
       "      <th>12</th>\n",
       "      <td>XIPOM364</td>\n",
       "      <td>Xiaomi</td>\n",
       "      <td>Poco M3</td>\n",
       "      <td>64</td>\n",
       "      <td>Resmi</td>\n",
       "      <td>2100000</td>\n",
       "      <td>18</td>\n",
       "      <td>11</td>\n",
       "      <td>7</td>\n",
       "      <td>2</td>\n",
       "    </tr>\n",
       "    <tr>\n",
       "      <th>14</th>\n",
       "      <td>XIRE7A32</td>\n",
       "      <td>Xiaomi</td>\n",
       "      <td>Redmi 7A</td>\n",
       "      <td>32</td>\n",
       "      <td>Resmi</td>\n",
       "      <td>1125000</td>\n",
       "      <td>12</td>\n",
       "      <td>9</td>\n",
       "      <td>3</td>\n",
       "      <td>2</td>\n",
       "    </tr>\n",
       "    <tr>\n",
       "      <th>15</th>\n",
       "      <td>XIRE932</td>\n",
       "      <td>Xiaomi</td>\n",
       "      <td>Redmi 9</td>\n",
       "      <td>32</td>\n",
       "      <td>Resmi</td>\n",
       "      <td>1775000</td>\n",
       "      <td>15</td>\n",
       "      <td>6</td>\n",
       "      <td>9</td>\n",
       "      <td>2</td>\n",
       "    </tr>\n",
       "    <tr>\n",
       "      <th>16</th>\n",
       "      <td>XIRE964</td>\n",
       "      <td>Xiaomi</td>\n",
       "      <td>Redmi 9</td>\n",
       "      <td>64</td>\n",
       "      <td>Resmi</td>\n",
       "      <td>1850000</td>\n",
       "      <td>10</td>\n",
       "      <td>8</td>\n",
       "      <td>2</td>\n",
       "      <td>2</td>\n",
       "    </tr>\n",
       "    <tr>\n",
       "      <th>19</th>\n",
       "      <td>SAA0132</td>\n",
       "      <td>Samsung</td>\n",
       "      <td>A01</td>\n",
       "      <td>32</td>\n",
       "      <td>Resmi</td>\n",
       "      <td>1390000</td>\n",
       "      <td>13</td>\n",
       "      <td>7</td>\n",
       "      <td>6</td>\n",
       "      <td>2</td>\n",
       "    </tr>\n",
       "    <tr>\n",
       "      <th>20</th>\n",
       "      <td>SAA0232</td>\n",
       "      <td>Samsung</td>\n",
       "      <td>A02</td>\n",
       "      <td>32</td>\n",
       "      <td>Resmi</td>\n",
       "      <td>1425000</td>\n",
       "      <td>16</td>\n",
       "      <td>11</td>\n",
       "      <td>5</td>\n",
       "      <td>2</td>\n",
       "    </tr>\n",
       "    <tr>\n",
       "      <th>21</th>\n",
       "      <td>SAA0332</td>\n",
       "      <td>Samsung</td>\n",
       "      <td>A03</td>\n",
       "      <td>32</td>\n",
       "      <td>Resmi</td>\n",
       "      <td>1650000</td>\n",
       "      <td>18</td>\n",
       "      <td>10</td>\n",
       "      <td>8</td>\n",
       "      <td>2</td>\n",
       "    </tr>\n",
       "    <tr>\n",
       "      <th>23</th>\n",
       "      <td>SAA1164</td>\n",
       "      <td>Samsung</td>\n",
       "      <td>A11</td>\n",
       "      <td>64</td>\n",
       "      <td>Resmi</td>\n",
       "      <td>1678000</td>\n",
       "      <td>12</td>\n",
       "      <td>8</td>\n",
       "      <td>4</td>\n",
       "      <td>2</td>\n",
       "    </tr>\n",
       "    <tr>\n",
       "      <th>24</th>\n",
       "      <td>SAA2032</td>\n",
       "      <td>Samsung</td>\n",
       "      <td>A20</td>\n",
       "      <td>32</td>\n",
       "      <td>Resmi</td>\n",
       "      <td>1935000</td>\n",
       "      <td>8</td>\n",
       "      <td>4</td>\n",
       "      <td>4</td>\n",
       "      <td>2</td>\n",
       "    </tr>\n",
       "    <tr>\n",
       "      <th>25</th>\n",
       "      <td>SAA20S32</td>\n",
       "      <td>Samsung</td>\n",
       "      <td>A20S</td>\n",
       "      <td>32</td>\n",
       "      <td>Resmi</td>\n",
       "      <td>1975000</td>\n",
       "      <td>10</td>\n",
       "      <td>3</td>\n",
       "      <td>7</td>\n",
       "      <td>2</td>\n",
       "    </tr>\n",
       "    <tr>\n",
       "      <th>26</th>\n",
       "      <td>SAA21S32</td>\n",
       "      <td>Samsung</td>\n",
       "      <td>A21S</td>\n",
       "      <td>32</td>\n",
       "      <td>Resmi</td>\n",
       "      <td>2246000</td>\n",
       "      <td>9</td>\n",
       "      <td>3</td>\n",
       "      <td>6</td>\n",
       "      <td>2</td>\n",
       "    </tr>\n",
       "    <tr>\n",
       "      <th>27</th>\n",
       "      <td>SAA3064</td>\n",
       "      <td>Samsung</td>\n",
       "      <td>A30</td>\n",
       "      <td>64</td>\n",
       "      <td>Resmi</td>\n",
       "      <td>2100000</td>\n",
       "      <td>11</td>\n",
       "      <td>5</td>\n",
       "      <td>6</td>\n",
       "      <td>2</td>\n",
       "    </tr>\n",
       "    <tr>\n",
       "      <th>28</th>\n",
       "      <td>SAA3164</td>\n",
       "      <td>Samsung</td>\n",
       "      <td>A31</td>\n",
       "      <td>64</td>\n",
       "      <td>Resmi</td>\n",
       "      <td>3575000</td>\n",
       "      <td>13</td>\n",
       "      <td>6</td>\n",
       "      <td>7</td>\n",
       "      <td>2</td>\n",
       "    </tr>\n",
       "    <tr>\n",
       "      <th>31</th>\n",
       "      <td>SAM1132</td>\n",
       "      <td>Samsung</td>\n",
       "      <td>M11</td>\n",
       "      <td>32</td>\n",
       "      <td>Resmi</td>\n",
       "      <td>1830000</td>\n",
       "      <td>15</td>\n",
       "      <td>12</td>\n",
       "      <td>3</td>\n",
       "      <td>2</td>\n",
       "    </tr>\n",
       "    <tr>\n",
       "      <th>32</th>\n",
       "      <td>SAM1232</td>\n",
       "      <td>Samsung</td>\n",
       "      <td>M12</td>\n",
       "      <td>32</td>\n",
       "      <td>Resmi</td>\n",
       "      <td>1550000</td>\n",
       "      <td>17</td>\n",
       "      <td>11</td>\n",
       "      <td>6</td>\n",
       "      <td>2</td>\n",
       "    </tr>\n",
       "    <tr>\n",
       "      <th>33</th>\n",
       "      <td>SAM1264</td>\n",
       "      <td>Samsung</td>\n",
       "      <td>M12</td>\n",
       "      <td>64</td>\n",
       "      <td>Resmi</td>\n",
       "      <td>1800000</td>\n",
       "      <td>17</td>\n",
       "      <td>8</td>\n",
       "      <td>9</td>\n",
       "      <td>2</td>\n",
       "    </tr>\n",
       "    <tr>\n",
       "      <th>35</th>\n",
       "      <td>SAM3064</td>\n",
       "      <td>Samsung</td>\n",
       "      <td>M30</td>\n",
       "      <td>64</td>\n",
       "      <td>Resmi</td>\n",
       "      <td>2400000</td>\n",
       "      <td>9</td>\n",
       "      <td>3</td>\n",
       "      <td>6</td>\n",
       "      <td>2</td>\n",
       "    </tr>\n",
       "    <tr>\n",
       "      <th>39</th>\n",
       "      <td>OPA1K32</td>\n",
       "      <td>Oppo</td>\n",
       "      <td>A1K</td>\n",
       "      <td>32</td>\n",
       "      <td>Distributor</td>\n",
       "      <td>1530000</td>\n",
       "      <td>14</td>\n",
       "      <td>9</td>\n",
       "      <td>5</td>\n",
       "      <td>2</td>\n",
       "    </tr>\n",
       "    <tr>\n",
       "      <th>40</th>\n",
       "      <td>OPA11K32</td>\n",
       "      <td>Oppo</td>\n",
       "      <td>A11K</td>\n",
       "      <td>32</td>\n",
       "      <td>Distributor</td>\n",
       "      <td>1450000</td>\n",
       "      <td>11</td>\n",
       "      <td>5</td>\n",
       "      <td>6</td>\n",
       "      <td>2</td>\n",
       "    </tr>\n",
       "    <tr>\n",
       "      <th>41</th>\n",
       "      <td>OPA564</td>\n",
       "      <td>Oppo</td>\n",
       "      <td>A5</td>\n",
       "      <td>64</td>\n",
       "      <td>Distributor</td>\n",
       "      <td>2160000</td>\n",
       "      <td>17</td>\n",
       "      <td>5</td>\n",
       "      <td>12</td>\n",
       "      <td>2</td>\n",
       "    </tr>\n",
       "    <tr>\n",
       "      <th>43</th>\n",
       "      <td>OPA5S64</td>\n",
       "      <td>Oppo</td>\n",
       "      <td>A5S</td>\n",
       "      <td>64</td>\n",
       "      <td>Distributor</td>\n",
       "      <td>1710000</td>\n",
       "      <td>13</td>\n",
       "      <td>7</td>\n",
       "      <td>6</td>\n",
       "      <td>2</td>\n",
       "    </tr>\n",
       "    <tr>\n",
       "      <th>44</th>\n",
       "      <td>OPA964</td>\n",
       "      <td>Oppo</td>\n",
       "      <td>A9</td>\n",
       "      <td>64</td>\n",
       "      <td>Distributor</td>\n",
       "      <td>3330000</td>\n",
       "      <td>14</td>\n",
       "      <td>4</td>\n",
       "      <td>10</td>\n",
       "      <td>2</td>\n",
       "    </tr>\n",
       "    <tr>\n",
       "      <th>45</th>\n",
       "      <td>OPA1232</td>\n",
       "      <td>Oppo</td>\n",
       "      <td>A12</td>\n",
       "      <td>32</td>\n",
       "      <td>Distributor</td>\n",
       "      <td>1710000</td>\n",
       "      <td>18</td>\n",
       "      <td>7</td>\n",
       "      <td>11</td>\n",
       "      <td>2</td>\n",
       "    </tr>\n",
       "    <tr>\n",
       "      <th>48</th>\n",
       "      <td>OPA3332</td>\n",
       "      <td>Oppo</td>\n",
       "      <td>A33</td>\n",
       "      <td>32</td>\n",
       "      <td>Distributor</td>\n",
       "      <td>2300000</td>\n",
       "      <td>15</td>\n",
       "      <td>7</td>\n",
       "      <td>8</td>\n",
       "      <td>2</td>\n",
       "    </tr>\n",
       "    <tr>\n",
       "      <th>52</th>\n",
       "      <td>RE364</td>\n",
       "      <td>Realme</td>\n",
       "      <td>3</td>\n",
       "      <td>64</td>\n",
       "      <td>Resmi</td>\n",
       "      <td>1700000</td>\n",
       "      <td>11</td>\n",
       "      <td>7</td>\n",
       "      <td>4</td>\n",
       "      <td>2</td>\n",
       "    </tr>\n",
       "    <tr>\n",
       "      <th>53</th>\n",
       "      <td>RE564</td>\n",
       "      <td>Realme</td>\n",
       "      <td>5</td>\n",
       "      <td>64</td>\n",
       "      <td>Resmi</td>\n",
       "      <td>1830000</td>\n",
       "      <td>12</td>\n",
       "      <td>10</td>\n",
       "      <td>2</td>\n",
       "      <td>2</td>\n",
       "    </tr>\n",
       "    <tr>\n",
       "      <th>56</th>\n",
       "      <td>RE5I128</td>\n",
       "      <td>Realme</td>\n",
       "      <td>5I</td>\n",
       "      <td>128</td>\n",
       "      <td>Resmi</td>\n",
       "      <td>2025000</td>\n",
       "      <td>19</td>\n",
       "      <td>11</td>\n",
       "      <td>8</td>\n",
       "      <td>2</td>\n",
       "    </tr>\n",
       "    <tr>\n",
       "      <th>59</th>\n",
       "      <td>RE8I64</td>\n",
       "      <td>Realme</td>\n",
       "      <td>8I</td>\n",
       "      <td>64</td>\n",
       "      <td>Resmi</td>\n",
       "      <td>2300000</td>\n",
       "      <td>16</td>\n",
       "      <td>9</td>\n",
       "      <td>7</td>\n",
       "      <td>2</td>\n",
       "    </tr>\n",
       "    <tr>\n",
       "      <th>62</th>\n",
       "      <td>REC332</td>\n",
       "      <td>Realme</td>\n",
       "      <td>C3</td>\n",
       "      <td>32</td>\n",
       "      <td>Resmi</td>\n",
       "      <td>1765000</td>\n",
       "      <td>14</td>\n",
       "      <td>10</td>\n",
       "      <td>4</td>\n",
       "      <td>2</td>\n",
       "    </tr>\n",
       "    <tr>\n",
       "      <th>64</th>\n",
       "      <td>REC1564</td>\n",
       "      <td>Realme</td>\n",
       "      <td>C15</td>\n",
       "      <td>64</td>\n",
       "      <td>Resmi</td>\n",
       "      <td>1732000</td>\n",
       "      <td>15</td>\n",
       "      <td>10</td>\n",
       "      <td>5</td>\n",
       "      <td>2</td>\n",
       "    </tr>\n",
       "    <tr>\n",
       "      <th>71</th>\n",
       "      <td>VIY1232</td>\n",
       "      <td>Vivo</td>\n",
       "      <td>Y12</td>\n",
       "      <td>32</td>\n",
       "      <td>Distributor</td>\n",
       "      <td>1710000</td>\n",
       "      <td>15</td>\n",
       "      <td>12</td>\n",
       "      <td>3</td>\n",
       "      <td>2</td>\n",
       "    </tr>\n",
       "    <tr>\n",
       "      <th>72</th>\n",
       "      <td>VIY1264</td>\n",
       "      <td>Vivo</td>\n",
       "      <td>Y12</td>\n",
       "      <td>64</td>\n",
       "      <td>Distributor</td>\n",
       "      <td>1800000</td>\n",
       "      <td>18</td>\n",
       "      <td>8</td>\n",
       "      <td>10</td>\n",
       "      <td>2</td>\n",
       "    </tr>\n",
       "    <tr>\n",
       "      <th>73</th>\n",
       "      <td>VIY12I32</td>\n",
       "      <td>Vivo</td>\n",
       "      <td>Y12I</td>\n",
       "      <td>32</td>\n",
       "      <td>Distributor</td>\n",
       "      <td>1710000</td>\n",
       "      <td>11</td>\n",
       "      <td>4</td>\n",
       "      <td>7</td>\n",
       "      <td>2</td>\n",
       "    </tr>\n",
       "    <tr>\n",
       "      <th>74</th>\n",
       "      <td>VIY12S32</td>\n",
       "      <td>Vivo</td>\n",
       "      <td>Y12S</td>\n",
       "      <td>32</td>\n",
       "      <td>Distributor</td>\n",
       "      <td>1800000</td>\n",
       "      <td>18</td>\n",
       "      <td>11</td>\n",
       "      <td>7</td>\n",
       "      <td>2</td>\n",
       "    </tr>\n",
       "    <tr>\n",
       "      <th>75</th>\n",
       "      <td>VIY1564</td>\n",
       "      <td>Vivo</td>\n",
       "      <td>Y15</td>\n",
       "      <td>64</td>\n",
       "      <td>Distributor</td>\n",
       "      <td>2160000</td>\n",
       "      <td>15</td>\n",
       "      <td>6</td>\n",
       "      <td>9</td>\n",
       "      <td>2</td>\n",
       "    </tr>\n",
       "    <tr>\n",
       "      <th>76</th>\n",
       "      <td>VIY1764</td>\n",
       "      <td>Vivo</td>\n",
       "      <td>Y17</td>\n",
       "      <td>64</td>\n",
       "      <td>Distributor</td>\n",
       "      <td>2100000</td>\n",
       "      <td>8</td>\n",
       "      <td>5</td>\n",
       "      <td>3</td>\n",
       "      <td>2</td>\n",
       "    </tr>\n",
       "    <tr>\n",
       "      <th>80</th>\n",
       "      <td>VIY30I64</td>\n",
       "      <td>Vivo</td>\n",
       "      <td>Y30I</td>\n",
       "      <td>64</td>\n",
       "      <td>Distributor</td>\n",
       "      <td>1980000</td>\n",
       "      <td>13</td>\n",
       "      <td>4</td>\n",
       "      <td>9</td>\n",
       "      <td>2</td>\n",
       "    </tr>\n",
       "    <tr>\n",
       "      <th>82</th>\n",
       "      <td>VIY91C32</td>\n",
       "      <td>Vivo</td>\n",
       "      <td>Y91C</td>\n",
       "      <td>32</td>\n",
       "      <td>Distributor</td>\n",
       "      <td>1530000</td>\n",
       "      <td>14</td>\n",
       "      <td>10</td>\n",
       "      <td>4</td>\n",
       "      <td>2</td>\n",
       "    </tr>\n",
       "    <tr>\n",
       "      <th>83</th>\n",
       "      <td>VIZ1PRO64</td>\n",
       "      <td>Vivo</td>\n",
       "      <td>Z1 PRO</td>\n",
       "      <td>64</td>\n",
       "      <td>Distributor</td>\n",
       "      <td>2612000</td>\n",
       "      <td>17</td>\n",
       "      <td>12</td>\n",
       "      <td>5</td>\n",
       "      <td>2</td>\n",
       "    </tr>\n",
       "    <tr>\n",
       "      <th>85</th>\n",
       "      <td>INSM32</td>\n",
       "      <td>Infinix</td>\n",
       "      <td>Smart 6</td>\n",
       "      <td>32</td>\n",
       "      <td>Resmi</td>\n",
       "      <td>1225000</td>\n",
       "      <td>19</td>\n",
       "      <td>9</td>\n",
       "      <td>10</td>\n",
       "      <td>2</td>\n",
       "    </tr>\n",
       "    <tr>\n",
       "      <th>86</th>\n",
       "      <td>INHO864</td>\n",
       "      <td>Infinix</td>\n",
       "      <td>Hot 8</td>\n",
       "      <td>64</td>\n",
       "      <td>Resmi</td>\n",
       "      <td>1592000</td>\n",
       "      <td>12</td>\n",
       "      <td>7</td>\n",
       "      <td>5</td>\n",
       "      <td>2</td>\n",
       "    </tr>\n",
       "    <tr>\n",
       "      <th>88</th>\n",
       "      <td>INHO964</td>\n",
       "      <td>Infinix</td>\n",
       "      <td>Hot 9</td>\n",
       "      <td>64</td>\n",
       "      <td>Resmi</td>\n",
       "      <td>1525000</td>\n",
       "      <td>11</td>\n",
       "      <td>6</td>\n",
       "      <td>5</td>\n",
       "      <td>2</td>\n",
       "    </tr>\n",
       "    <tr>\n",
       "      <th>91</th>\n",
       "      <td>INHO1032</td>\n",
       "      <td>Infinix</td>\n",
       "      <td>Hot 10</td>\n",
       "      <td>32</td>\n",
       "      <td>Resmi</td>\n",
       "      <td>1300000</td>\n",
       "      <td>14</td>\n",
       "      <td>7</td>\n",
       "      <td>7</td>\n",
       "      <td>2</td>\n",
       "    </tr>\n",
       "    <tr>\n",
       "      <th>92</th>\n",
       "      <td>INHO1064</td>\n",
       "      <td>Infinix</td>\n",
       "      <td>Hot 10</td>\n",
       "      <td>64</td>\n",
       "      <td>Resmi</td>\n",
       "      <td>1550000</td>\n",
       "      <td>20</td>\n",
       "      <td>6</td>\n",
       "      <td>14</td>\n",
       "      <td>2</td>\n",
       "    </tr>\n",
       "    <tr>\n",
       "      <th>99</th>\n",
       "      <td>MEM616</td>\n",
       "      <td>Meizu</td>\n",
       "      <td>Meizu M6</td>\n",
       "      <td>16</td>\n",
       "      <td>Resmi</td>\n",
       "      <td>800000</td>\n",
       "      <td>18</td>\n",
       "      <td>10</td>\n",
       "      <td>8</td>\n",
       "      <td>2</td>\n",
       "    </tr>\n",
       "  </tbody>\n",
       "</table>\n",
       "</div>"
      ],
      "text/plain": [
       "   Kode Barang     Merk      Type  Penyimpanan      Garansi    Harga  \\\n",
       "3      XINO764   Xiaomi    Note 7           64        Resmi  2261000   \n",
       "4      XINO832   Xiaomi    Note 8           32        Resmi  2100000   \n",
       "5      XINO864   Xiaomi    Note 8           64        Resmi  2300000   \n",
       "7      XINO964   Xiaomi    Note 9           64        Resmi  2150000   \n",
       "9     XINO1064   Xiaomi   Note 10           64        Resmi  2400000   \n",
       "10   XINO10S64   Xiaomi  Note 10S           64        Resmi  2750000   \n",
       "12    XIPOM364   Xiaomi   Poco M3           64        Resmi  2100000   \n",
       "14    XIRE7A32   Xiaomi  Redmi 7A           32        Resmi  1125000   \n",
       "15     XIRE932   Xiaomi   Redmi 9           32        Resmi  1775000   \n",
       "16     XIRE964   Xiaomi   Redmi 9           64        Resmi  1850000   \n",
       "19     SAA0132  Samsung       A01           32        Resmi  1390000   \n",
       "20     SAA0232  Samsung       A02           32        Resmi  1425000   \n",
       "21     SAA0332  Samsung       A03           32        Resmi  1650000   \n",
       "23     SAA1164  Samsung       A11           64        Resmi  1678000   \n",
       "24     SAA2032  Samsung       A20           32        Resmi  1935000   \n",
       "25    SAA20S32  Samsung      A20S           32        Resmi  1975000   \n",
       "26    SAA21S32  Samsung      A21S           32        Resmi  2246000   \n",
       "27     SAA3064  Samsung       A30           64        Resmi  2100000   \n",
       "28     SAA3164  Samsung       A31           64        Resmi  3575000   \n",
       "31     SAM1132  Samsung       M11           32        Resmi  1830000   \n",
       "32     SAM1232  Samsung       M12           32        Resmi  1550000   \n",
       "33     SAM1264  Samsung       M12           64        Resmi  1800000   \n",
       "35     SAM3064  Samsung       M30           64        Resmi  2400000   \n",
       "39     OPA1K32     Oppo       A1K           32  Distributor  1530000   \n",
       "40    OPA11K32     Oppo      A11K           32  Distributor  1450000   \n",
       "41      OPA564     Oppo        A5           64  Distributor  2160000   \n",
       "43     OPA5S64     Oppo       A5S           64  Distributor  1710000   \n",
       "44      OPA964     Oppo        A9           64  Distributor  3330000   \n",
       "45     OPA1232     Oppo       A12           32  Distributor  1710000   \n",
       "48     OPA3332     Oppo       A33           32  Distributor  2300000   \n",
       "52       RE364   Realme         3           64        Resmi  1700000   \n",
       "53       RE564   Realme         5           64        Resmi  1830000   \n",
       "56     RE5I128   Realme        5I          128        Resmi  2025000   \n",
       "59      RE8I64   Realme        8I           64        Resmi  2300000   \n",
       "62      REC332   Realme        C3           32        Resmi  1765000   \n",
       "64     REC1564   Realme       C15           64        Resmi  1732000   \n",
       "71     VIY1232     Vivo       Y12           32  Distributor  1710000   \n",
       "72     VIY1264     Vivo       Y12           64  Distributor  1800000   \n",
       "73    VIY12I32     Vivo      Y12I           32  Distributor  1710000   \n",
       "74    VIY12S32     Vivo      Y12S           32  Distributor  1800000   \n",
       "75     VIY1564     Vivo       Y15           64  Distributor  2160000   \n",
       "76     VIY1764     Vivo       Y17           64  Distributor  2100000   \n",
       "80    VIY30I64     Vivo      Y30I           64  Distributor  1980000   \n",
       "82    VIY91C32     Vivo      Y91C           32  Distributor  1530000   \n",
       "83   VIZ1PRO64     Vivo    Z1 PRO           64  Distributor  2612000   \n",
       "85      INSM32  Infinix   Smart 6           32        Resmi  1225000   \n",
       "86     INHO864  Infinix     Hot 8           64        Resmi  1592000   \n",
       "88     INHO964  Infinix     Hot 9           64        Resmi  1525000   \n",
       "91    INHO1032  Infinix    Hot 10           32        Resmi  1300000   \n",
       "92    INHO1064  Infinix    Hot 10           64        Resmi  1550000   \n",
       "99      MEM616    Meizu  Meizu M6           16        Resmi   800000   \n",
       "\n",
       "    Barang Masuk  Barang Keluar  Stok Barang  label  \n",
       "3             11              7            4      2  \n",
       "4             12              6            6      2  \n",
       "5             15             10            5      2  \n",
       "7             13              5            8      2  \n",
       "9             16              9            7      2  \n",
       "10            11              5            6      2  \n",
       "12            18             11            7      2  \n",
       "14            12              9            3      2  \n",
       "15            15              6            9      2  \n",
       "16            10              8            2      2  \n",
       "19            13              7            6      2  \n",
       "20            16             11            5      2  \n",
       "21            18             10            8      2  \n",
       "23            12              8            4      2  \n",
       "24             8              4            4      2  \n",
       "25            10              3            7      2  \n",
       "26             9              3            6      2  \n",
       "27            11              5            6      2  \n",
       "28            13              6            7      2  \n",
       "31            15             12            3      2  \n",
       "32            17             11            6      2  \n",
       "33            17              8            9      2  \n",
       "35             9              3            6      2  \n",
       "39            14              9            5      2  \n",
       "40            11              5            6      2  \n",
       "41            17              5           12      2  \n",
       "43            13              7            6      2  \n",
       "44            14              4           10      2  \n",
       "45            18              7           11      2  \n",
       "48            15              7            8      2  \n",
       "52            11              7            4      2  \n",
       "53            12             10            2      2  \n",
       "56            19             11            8      2  \n",
       "59            16              9            7      2  \n",
       "62            14             10            4      2  \n",
       "64            15             10            5      2  \n",
       "71            15             12            3      2  \n",
       "72            18              8           10      2  \n",
       "73            11              4            7      2  \n",
       "74            18             11            7      2  \n",
       "75            15              6            9      2  \n",
       "76             8              5            3      2  \n",
       "80            13              4            9      2  \n",
       "82            14             10            4      2  \n",
       "83            17             12            5      2  \n",
       "85            19              9           10      2  \n",
       "86            12              7            5      2  \n",
       "88            11              6            5      2  \n",
       "91            14              7            7      2  \n",
       "92            20              6           14      2  \n",
       "99            18             10            8      2  "
      ]
     },
     "execution_count": 28,
     "metadata": {},
     "output_type": "execute_result"
    }
   ],
   "source": [
    "cluster2 = df[df['label']==2]\n",
    "cluster2"
   ]
  },
  {
   "cell_type": "code",
   "execution_count": 29,
   "id": "e289afc0",
   "metadata": {
    "colab": {
     "base_uri": "https://localhost:8080/",
     "height": 448
    },
    "executionInfo": {
     "elapsed": 928,
     "status": "ok",
     "timestamp": 1672373067124,
     "user": {
      "displayName": "miroalexander tiopan",
      "userId": "02347598650366603084"
     },
     "user_tz": -420
    },
    "id": "e289afc0",
    "outputId": "b10022fb-2ae5-4078-f05f-897a3ba19de7"
   },
   "outputs": [
    {
     "data": {
      "image/png": "[encoded data removed]",
      "text/plain": [
       "<Figure size 1200x700 with 1 Axes>"
      ]
     },
     "metadata": {},
     "output_type": "display_data"
    }
   ],
   "source": [
    "plt.figure(figsize=(12,7))\n",
    "plt.bar(cluster0['Merk'],cluster0['Stok Barang'] , color='lightcoral')\n",
    "\n",
    "plt.title('Number of Stock Based on Brand Cluster 0', size=16)\n",
    "plt.ylabel('Number of Stock ', size=14)\n",
    "plt.xticks(size=12)\n",
    "plt.yticks(size=12)\n",
    "\n",
    "plt.show()"
   ]
  },
  {
   "cell_type": "code",
   "execution_count": 30,
   "id": "0fa6ea48",
   "metadata": {
    "colab": {
     "base_uri": "https://localhost:8080/",
     "height": 448
    },
    "executionInfo": {
     "elapsed": 15,
     "status": "ok",
     "timestamp": 1672373067125,
     "user": {
      "displayName": "miroalexander tiopan",
      "userId": "02347598650366603084"
     },
     "user_tz": -420
    },
    "id": "0fa6ea48",
    "outputId": "fa01049e-fb81-4240-8d15-9b9afc047034"
   },
   "outputs": [
    {
     "data": {
      "image/png": "[encoded data removed]",
      "text/plain": [
       "<Figure size 1200x700 with 1 Axes>"
      ]
     },
     "metadata": {},
     "output_type": "display_data"
    }
   ],
   "source": [
    "plt.figure(figsize=(12,7))\n",
    "plt.bar(cluster1['Merk'],cluster1['Stok Barang'] , color='lightcoral')\n",
    "\n",
    "plt.title('Number of Stock Based on Brand Cluster 1', size=16)\n",
    "plt.ylabel('Number of Stock ', size=14)\n",
    "plt.xticks(size=12)\n",
    "plt.yticks(size=12)\n",
    "\n",
    "plt.show()"
   ]
  },
  {
   "cell_type": "code",
   "execution_count": 31,
   "id": "f6aa68c4",
   "metadata": {
    "colab": {
     "base_uri": "https://localhost:8080/",
     "height": 448
    },
    "executionInfo": {
     "elapsed": 14,
     "status": "ok",
     "timestamp": 1672373067125,
     "user": {
      "displayName": "miroalexander tiopan",
      "userId": "02347598650366603084"
     },
     "user_tz": -420
    },
    "id": "f6aa68c4",
    "outputId": "26f3079f-dc77-4fdb-90b6-d3f9553f1e0f"
   },
   "outputs": [
    {
     "data": {
      "image/png": "[encoded data removed]",
      "text/plain": [
       "<Figure size 1200x700 with 1 Axes>"
      ]
     },
     "metadata": {},
     "output_type": "display_data"
    }
   ],
   "source": [
    "plt.figure(figsize=(12,7))\n",
    "plt.bar(cluster2['Merk'],cluster2['Stok Barang'] , color='lightcoral')\n",
    "\n",
    "plt.title('Number of Stock Based on Brand Cluster 2', size=16)\n",
    "plt.ylabel('Number of Stock ', size=14)\n",
    "plt.xticks(size=12)\n",
    "plt.yticks(size=12)\n",
    "\n",
    "plt.show()"
   ]
  },
  {
   "cell_type": "code",
   "execution_count": 32,
   "id": "ab80edbd",
   "metadata": {
    "colab": {
     "base_uri": "https://localhost:8080/",
     "height": 424
    },
    "executionInfo": {
     "elapsed": 499,
     "status": "ok",
     "timestamp": 1672373067612,
     "user": {
      "displayName": "miroalexander tiopan",
      "userId": "02347598650366603084"
     },
     "user_tz": -420
    },
    "id": "ab80edbd",
    "outputId": "c00abe68-ef45-4d08-ee5b-7691ced3b690"
   },
   "outputs": [],
   "source": [
    "new_df['label']=labels_SS"
   ]
  },
  {
   "cell_type": "code",
   "execution_count": 33,
   "id": "12a9aeee-662d-4e9d-9b6b-41a4c8347cd3",
   "metadata": {},
   "outputs": [
    {
     "data": {
      "text/html": [
       "<div>\n",
       "<style scoped>\n",
       "    .dataframe tbody tr th:only-of-type {\n",
       "        vertical-align: middle;\n",
       "    }\n",
       "\n",
       "    .dataframe tbody tr th {\n",
       "        vertical-align: top;\n",
       "    }\n",
       "\n",
       "    .dataframe thead th {\n",
       "        text-align: right;\n",
       "    }\n",
       "</style>\n",
       "<table border=\"1\" class=\"dataframe\">\n",
       "  <thead>\n",
       "    <tr style=\"text-align: right;\">\n",
       "      <th></th>\n",
       "      <th>Penyimpanan</th>\n",
       "      <th>Harga</th>\n",
       "      <th>Barang Masuk</th>\n",
       "      <th>Barang Keluar</th>\n",
       "      <th>Stok Barang</th>\n",
       "      <th>label</th>\n",
       "    </tr>\n",
       "  </thead>\n",
       "  <tbody>\n",
       "    <tr>\n",
       "      <th>0</th>\n",
       "      <td>32</td>\n",
       "      <td>1330000</td>\n",
       "      <td>30</td>\n",
       "      <td>18</td>\n",
       "      <td>12</td>\n",
       "      <td>0</td>\n",
       "    </tr>\n",
       "    <tr>\n",
       "      <th>1</th>\n",
       "      <td>32</td>\n",
       "      <td>1400000</td>\n",
       "      <td>23</td>\n",
       "      <td>12</td>\n",
       "      <td>11</td>\n",
       "      <td>0</td>\n",
       "    </tr>\n",
       "    <tr>\n",
       "      <th>2</th>\n",
       "      <td>64</td>\n",
       "      <td>1650000</td>\n",
       "      <td>27</td>\n",
       "      <td>17</td>\n",
       "      <td>10</td>\n",
       "      <td>0</td>\n",
       "    </tr>\n",
       "    <tr>\n",
       "      <th>3</th>\n",
       "      <td>64</td>\n",
       "      <td>2261000</td>\n",
       "      <td>11</td>\n",
       "      <td>7</td>\n",
       "      <td>4</td>\n",
       "      <td>2</td>\n",
       "    </tr>\n",
       "    <tr>\n",
       "      <th>4</th>\n",
       "      <td>32</td>\n",
       "      <td>2100000</td>\n",
       "      <td>12</td>\n",
       "      <td>6</td>\n",
       "      <td>6</td>\n",
       "      <td>2</td>\n",
       "    </tr>\n",
       "  </tbody>\n",
       "</table>\n",
       "</div>"
      ],
      "text/plain": [
       "   Penyimpanan    Harga  Barang Masuk  Barang Keluar  Stok Barang  label\n",
       "0           32  1330000            30             18           12      0\n",
       "1           32  1400000            23             12           11      0\n",
       "2           64  1650000            27             17           10      0\n",
       "3           64  2261000            11              7            4      2\n",
       "4           32  2100000            12              6            6      2"
      ]
     },
     "execution_count": 33,
     "metadata": {},
     "output_type": "execute_result"
    }
   ],
   "source": [
    "new_df.head()"
   ]
  },
  {
   "cell_type": "code",
   "execution_count": 34,
   "id": "c85e271b",
   "metadata": {
    "colab": {
     "base_uri": "https://localhost:8080/",
     "height": 1000
    },
    "executionInfo": {
     "elapsed": 8650,
     "status": "ok",
     "timestamp": 1672373076258,
     "user": {
      "displayName": "miroalexander tiopan",
      "userId": "02347598650366603084"
     },
     "user_tz": -420
    },
    "id": "c85e271b",
    "outputId": "d920a70f-77ec-45f4-85cd-cafe5daec8c0"
   },
   "outputs": [
    {
     "data": {
      "image/png": "[encoded data removed]",
      "text/plain": [
       "<Figure size 900x300 with 3 Axes>"
      ]
     },
     "metadata": {},
     "output_type": "display_data"
    },
    {
     "data": {
      "image/png": "[encoded data removed]",
      "text/plain": [
       "<Figure size 900x300 with 3 Axes>"
      ]
     },
     "metadata": {},
     "output_type": "display_data"
    },
    {
     "data": {
      "image/png": "[encoded data removed]",
      "text/plain": [
       "<Figure size 900x300 with 3 Axes>"
      ]
     },
     "metadata": {},
     "output_type": "display_data"
    },
    {
     "data": {
      "image/png": "[encoded data removed]",
      "text/plain": [
       "<Figure size 900x300 with 3 Axes>"
      ]
     },
     "metadata": {},
     "output_type": "display_data"
    },
    {
     "data": {
      "image/png": "[encoded data removed]",
      "text/plain": [
       "<Figure size 900x300 with 3 Axes>"
      ]
     },
     "metadata": {},
     "output_type": "display_data"
    }
   ],
   "source": [
    "for x in new_df.drop('label', axis=1).columns:\n",
    "    plot = sns.FacetGrid(new_df, col='label')\n",
    "    plot.map(sns.histplot, x)"
   ]
  },
  {
   "cell_type": "code",
   "execution_count": 35,
   "id": "d7608b15",
   "metadata": {
    "colab": {
     "base_uri": "https://localhost:8080/"
    },
    "executionInfo": {
     "elapsed": 20,
     "status": "ok",
     "timestamp": 1672373076259,
     "user": {
      "displayName": "miroalexander tiopan",
      "userId": "02347598650366603084"
     },
     "user_tz": -420
    },
    "id": "d7608b15",
    "outputId": "6bac532d-6d2a-4d30-f405-4e7a9c161728"
   },
   "outputs": [
    {
     "data": {
      "text/plain": [
       "label\n",
       "2    51\n",
       "1    28\n",
       "0    21\n",
       "Name: count, dtype: int64"
      ]
     },
     "execution_count": 35,
     "metadata": {},
     "output_type": "execute_result"
    }
   ],
   "source": [
    "df['label'].value_counts()"
   ]
  },
  {
   "cell_type": "markdown",
   "id": "upUDqltBIdH4",
   "metadata": {
    "id": "upUDqltBIdH4"
   },
   "source": [
    "### KMeans Pycluster - Euclidean Vs Manhattan"
   ]
  },
  {
   "cell_type": "code",
   "execution_count": 36,
   "id": "zuBHzYbJcGsx",
   "metadata": {
    "id": "zuBHzYbJcGsx"
   },
   "outputs": [],
   "source": [
    "SS_scaler = pd.DataFrame(StandardScaler().fit_transform(new_df), columns=new_df.columns)"
   ]
  },
  {
   "cell_type": "code",
   "execution_count": 37,
   "id": "e2ea19a1",
   "metadata": {
    "id": "e2ea19a1"
   },
   "outputs": [],
   "source": [
    "X = SS_scaler.iloc[:, 0:5].values # feature matrix\n",
    "y = SS_scaler.iloc[:, -1].values # class matrix"
   ]
  },
  {
   "cell_type": "code",
   "execution_count": 38,
   "id": "mdyii5mpX5Zl",
   "metadata": {
    "id": "mdyii5mpX5Zl"
   },
   "outputs": [],
   "source": [
    "distance_measures = {'euclidean': 0, 'squared euclidean': 1, 'manhattan': 2, 'chebyshev': 3,\n",
    "                    'canberra': 5, 'chi-square': 6}"
   ]
  },
  {
   "cell_type": "markdown",
   "id": "061d09e5-66b7-4d76-b592-873a29dfc58f",
   "metadata": {},
   "source": [
    "#### Euclidean"
   ]
  },
  {
   "cell_type": "code",
   "execution_count": 39,
   "id": "ed676fb5-9aed-4cd1-9ba8-0b41f3c3251f",
   "metadata": {
    "tags": []
   },
   "outputs": [],
   "source": [
    "from pyclustering.cluster.kmeans import kmeans\n",
    "from pyclustering.utils.metric import distance_metric\n",
    "from pyclustering.cluster.center_initializer import random_center_initializer\n",
    "from pyclustering.cluster.encoder import type_encoding\n",
    "from pyclustering.cluster.encoder import cluster_encoder"
   ]
  },
  {
   "cell_type": "code",
   "execution_count": 40,
   "id": "fhSLhnkkYqc-",
   "metadata": {
    "colab": {
     "base_uri": "https://localhost:8080/"
    },
    "executionInfo": {
     "elapsed": 28,
     "status": "ok",
     "timestamp": 1672373082329,
     "user": {
      "displayName": "miroalexander tiopan",
      "userId": "02347598650366603084"
     },
     "user_tz": -420
    },
    "id": "fhSLhnkkYqc-",
    "outputId": "d669a222-53db-45ac-acd5-a62866237b53"
   },
   "outputs": [
    {
     "name": "stdout",
     "output_type": "stream",
     "text": [
      "euclidean - davies bouldin:  0.916829911026253\n",
      "euclidean - silhoutte:  0.4120781268757607\n"
     ]
    }
   ],
   "source": [
    "initial_centers = random_center_initializer(X, 3, random_state=24).initialize()\n",
    "# instance created for respective distance metric\n",
    "instanceKm = kmeans(X, initial_centers=initial_centers, metric=distance_metric(distance_measures['euclidean']), random_state=24)\n",
    "# perform cluster analysis\n",
    "instanceKm.process()\n",
    "# cluster analysis results - clusters and centers\n",
    "pyClusters = instanceKm.get_clusters()\n",
    "pyCenters = instanceKm.get_centers()\n",
    "# enumerate encoding type to index labeling to get labels\n",
    "pyEncoding = instanceKm.get_cluster_encoding()\n",
    "pyEncoder = cluster_encoder(pyEncoding, pyClusters, X)\n",
    "pyLabels = pyEncoder.set_encoding(0).get_clusters()\n",
    "SS_scaler['label'] = pyLabels\n",
    "\n",
    "db_index = davies_bouldin_score(SS_scaler, pyLabels)\n",
    "print(\"euclidean - davies bouldin: \", db_index)\n",
    "\n",
    "s_index = silhouette_score(SS_scaler, pyLabels)\n",
    "print(\"euclidean - silhoutte: \", s_index)"
   ]
  },
  {
   "cell_type": "code",
   "execution_count": 41,
   "id": "UsdzMY9AebNn",
   "metadata": {
    "id": "UsdzMY9AebNn"
   },
   "outputs": [],
   "source": [
    "db_index = []\n",
    "s_index = []\n",
    "\n",
    "for K in range(2,11):\n",
    "  initial_centers = random_center_initializer(X, K, random_state=24).initialize()\n",
    "  # instance created for respective distance metric\n",
    "  instanceKm = kmeans(X, initial_centers=initial_centers, metric=distance_metric(distance_measures['euclidean']))\n",
    "  # perform cluster analysis\n",
    "  instanceKm.process()\n",
    "  # cluster analysis results - clusters and centers\n",
    "  pyClusters = instanceKm.get_clusters()\n",
    "  pyCenters = instanceKm.get_centers()\n",
    "  # enumerate encoding type to index labeling to get labels\n",
    "  pyEncoding = instanceKm.get_cluster_encoding()\n",
    "  pyEncoder = cluster_encoder(pyEncoding, pyClusters, X)\n",
    "  pyLabels = pyEncoder.set_encoding(0).get_clusters()\n",
    "  SS_scaler\n",
    "\n",
    "  db_index.append(davies_bouldin_score(SS_scaler, pyLabels))\n",
    "  s_index.append(silhouette_score(SS_scaler, pyLabels))"
   ]
  },
  {
   "cell_type": "markdown",
   "id": "cb61d593-3466-48da-a29a-6f10a090d896",
   "metadata": {},
   "source": [
    "##### Davies Bouldin Score"
   ]
  },
  {
   "cell_type": "code",
   "execution_count": 42,
   "id": "ar8l_Zw_e-p3",
   "metadata": {
    "colab": {
     "base_uri": "https://localhost:8080/"
    },
    "executionInfo": {
     "elapsed": 21,
     "status": "ok",
     "timestamp": 1672373082331,
     "user": {
      "displayName": "miroalexander tiopan",
      "userId": "02347598650366603084"
     },
     "user_tz": -420
    },
    "id": "ar8l_Zw_e-p3",
    "outputId": "5a6b7068-14b8-42ad-e04d-0705955a12c1"
   },
   "outputs": [
    {
     "data": {
      "text/plain": [
       "[1.1666928037147646,\n",
       " 0.916829911026253,\n",
       " 1.0978242100236753,\n",
       " 1.222480056494684,\n",
       " 1.2675698597605434,\n",
       " 1.2491219135321245,\n",
       " 1.291212065071211,\n",
       " 1.2609808009077583,\n",
       " 1.2258088503200562]"
      ]
     },
     "execution_count": 42,
     "metadata": {},
     "output_type": "execute_result"
    }
   ],
   "source": [
    "db_index"
   ]
  },
  {
   "cell_type": "code",
   "execution_count": 43,
   "id": "yqUYJoCWe1Nq",
   "metadata": {
    "colab": {
     "base_uri": "https://localhost:8080/",
     "height": 282
    },
    "executionInfo": {
     "elapsed": 951,
     "status": "ok",
     "timestamp": 1672373083266,
     "user": {
      "displayName": "miroalexander tiopan",
      "userId": "02347598650366603084"
     },
     "user_tz": -420
    },
    "id": "yqUYJoCWe1Nq",
    "outputId": "5aa08800-d5f8-47e7-8e9e-6c26cc373af3"
   },
   "outputs": [
    {
     "data": {
      "text/plain": [
       "[<matplotlib.lines.Line2D at 0x237ca3e16d0>]"
      ]
     },
     "execution_count": 43,
     "metadata": {},
     "output_type": "execute_result"
    },
    {
     "data": {
      "image/png": "[encoded data removed]",
      "text/plain": [
       "<Figure size 800x550 with 1 Axes>"
      ]
     },
     "metadata": {},
     "output_type": "display_data"
    }
   ],
   "source": [
    "plt.plot(range(2,11), db_index)"
   ]
  },
  {
   "cell_type": "markdown",
   "id": "7bed4f82-b843-438f-a989-2884c6b881aa",
   "metadata": {},
   "source": [
    "##### Silhouette Score"
   ]
  },
  {
   "cell_type": "code",
   "execution_count": 44,
   "id": "zJbtVNe0fWFN",
   "metadata": {
    "colab": {
     "base_uri": "https://localhost:8080/"
    },
    "executionInfo": {
     "elapsed": 48,
     "status": "ok",
     "timestamp": 1672373083267,
     "user": {
      "displayName": "miroalexander tiopan",
      "userId": "02347598650366603084"
     },
     "user_tz": -420
    },
    "id": "zJbtVNe0fWFN",
    "outputId": "8871a00d-3a81-4d56-9b96-304c3da23796"
   },
   "outputs": [
    {
     "data": {
      "text/plain": [
       "[0.3145633685461691,\n",
       " 0.4120781268757607,\n",
       " 0.3222943258238178,\n",
       " 0.28039374643981374,\n",
       " 0.22466031610610301,\n",
       " 0.21653877720188344,\n",
       " 0.20658659057352138,\n",
       " 0.22533446465605006,\n",
       " 0.21423855940041464]"
      ]
     },
     "execution_count": 44,
     "metadata": {},
     "output_type": "execute_result"
    }
   ],
   "source": [
    "s_index"
   ]
  },
  {
   "cell_type": "code",
   "execution_count": 45,
   "id": "7LEQie-ofYdd",
   "metadata": {
    "colab": {
     "base_uri": "https://localhost:8080/",
     "height": 282
    },
    "executionInfo": {
     "elapsed": 40,
     "status": "ok",
     "timestamp": 1672373083267,
     "user": {
      "displayName": "miroalexander tiopan",
      "userId": "02347598650366603084"
     },
     "user_tz": -420
    },
    "id": "7LEQie-ofYdd",
    "outputId": "01215a05-e8d2-48dc-eec4-8dfc66a8ab1d"
   },
   "outputs": [
    {
     "data": {
      "text/plain": [
       "[<matplotlib.lines.Line2D at 0x237c5858890>]"
      ]
     },
     "execution_count": 45,
     "metadata": {},
     "output_type": "execute_result"
    },
    {
     "data": {
      "image/png": "[encoded data removed]",
      "text/plain": [
       "<Figure size 800x550 with 1 Axes>"
      ]
     },
     "metadata": {},
     "output_type": "display_data"
    }
   ],
   "source": [
    "plt.plot(range(2,11), s_index)"
   ]
  },
  {
   "cell_type": "markdown",
   "id": "e4bcbd79-1e2c-400c-8688-7548bb4e5bfc",
   "metadata": {},
   "source": [
    "#### Manhattan"
   ]
  },
  {
   "cell_type": "code",
   "execution_count": 46,
   "id": "JDCTkM63ZeJE",
   "metadata": {
    "colab": {
     "base_uri": "https://localhost:8080/"
    },
    "executionInfo": {
     "elapsed": 32,
     "status": "ok",
     "timestamp": 1672373083268,
     "user": {
      "displayName": "miroalexander tiopan",
      "userId": "02347598650366603084"
     },
     "user_tz": -420
    },
    "id": "JDCTkM63ZeJE",
    "outputId": "54385d7e-cc6d-42a9-e93c-c03d9d4955b1"
   },
   "outputs": [
    {
     "name": "stdout",
     "output_type": "stream",
     "text": [
      "manhattan - davies bouldin:  0.9515531189917853\n",
      "manhattan - silhoutte:  0.3985944383920237\n"
     ]
    }
   ],
   "source": [
    "initial_centers = random_center_initializer(X, 3, random_state=24).initialize()\n",
    "# instance created for respective distance metric\n",
    "instanceKm = kmeans(X, initial_centers=initial_centers, metric=distance_metric(distance_measures['manhattan']))\n",
    "# perform cluster analysis\n",
    "instanceKm.process()\n",
    "# cluster analysis results - clusters and centers\n",
    "pyClusters = instanceKm.get_clusters()\n",
    "pyCenters = instanceKm.get_centers()\n",
    "# enumerate encoding type to index labeling to get labels\n",
    "pyEncoding = instanceKm.get_cluster_encoding()\n",
    "pyEncoder = cluster_encoder(pyEncoding, pyClusters, X)\n",
    "pyLabels = pyEncoder.set_encoding(0).get_clusters()\n",
    "SS_scaler['label'] = pyLabels\n",
    "\n",
    "db_index = davies_bouldin_score(SS_scaler, pyLabels)\n",
    "print(\"manhattan - davies bouldin: \", db_index)\n",
    "\n",
    "s_index = silhouette_score(SS_scaler, pyLabels)\n",
    "print(\"manhattan - silhoutte: \", s_index)"
   ]
  },
  {
   "cell_type": "code",
   "execution_count": 47,
   "id": "Ii8UmMCJfhlJ",
   "metadata": {
    "id": "Ii8UmMCJfhlJ"
   },
   "outputs": [],
   "source": [
    "db_index = []\n",
    "s_index = []\n",
    "\n",
    "for K in range(2,11):\n",
    "  initial_centers = random_center_initializer(X, K, random_state=24).initialize()\n",
    "  # instance created for respective distance metric\n",
    "  instanceKm = kmeans(X, initial_centers=initial_centers, metric=distance_metric(distance_measures['manhattan']))\n",
    "  # perform cluster analysis\n",
    "  instanceKm.process()\n",
    "  # cluster analysis results - clusters and centers\n",
    "  pyClusters = instanceKm.get_clusters()\n",
    "  pyCenters = instanceKm.get_centers()\n",
    "  # enumerate encoding type to index labeling to get labels\n",
    "  pyEncoding = instanceKm.get_cluster_encoding()\n",
    "  pyEncoder = cluster_encoder(pyEncoding, pyClusters, X)\n",
    "  pyLabels = pyEncoder.set_encoding(0).get_clusters()\n",
    "  SS_scaler['label'] = pyLabels\n",
    "\n",
    "  db_index.append(davies_bouldin_score(SS_scaler, pyLabels))\n",
    "  s_index.append(silhouette_score(SS_scaler, pyLabels))"
   ]
  },
  {
   "cell_type": "markdown",
   "id": "37fd6258-7aa3-4c72-a664-cf215c417919",
   "metadata": {},
   "source": [
    "##### Davies Bouldin Score"
   ]
  },
  {
   "cell_type": "code",
   "execution_count": 48,
   "id": "7u2aLmVefhlK",
   "metadata": {
    "colab": {
     "base_uri": "https://localhost:8080/"
    },
    "executionInfo": {
     "elapsed": 28,
     "status": "ok",
     "timestamp": 1672373083269,
     "user": {
      "displayName": "miroalexander tiopan",
      "userId": "02347598650366603084"
     },
     "user_tz": -420
    },
    "id": "7u2aLmVefhlK",
    "outputId": "9b849f95-93f6-4b9a-a4f7-d0fe42422c0b"
   },
   "outputs": [
    {
     "data": {
      "text/plain": [
       "[1.0483521516702212,\n",
       " 0.9515531189917853,\n",
       " 0.8465385571004276,\n",
       " 0.944806049811436,\n",
       " 1.0075977209729967,\n",
       " 0.8624983989495301,\n",
       " 0.8487570853459689,\n",
       " 0.7864995109356487,\n",
       " 0.7351150563787329]"
      ]
     },
     "execution_count": 48,
     "metadata": {},
     "output_type": "execute_result"
    }
   ],
   "source": [
    "db_index"
   ]
  },
  {
   "cell_type": "code",
   "execution_count": 49,
   "id": "-7yz4o10fhlL",
   "metadata": {
    "colab": {
     "base_uri": "https://localhost:8080/",
     "height": 282
    },
    "executionInfo": {
     "elapsed": 25,
     "status": "ok",
     "timestamp": 1672373083269,
     "user": {
      "displayName": "miroalexander tiopan",
      "userId": "02347598650366603084"
     },
     "user_tz": -420
    },
    "id": "-7yz4o10fhlL",
    "outputId": "37b5a7ef-d9fd-4596-852c-7a33fb8d5351"
   },
   "outputs": [
    {
     "data": {
      "text/plain": [
       "[<matplotlib.lines.Line2D at 0x237c873edd0>]"
      ]
     },
     "execution_count": 49,
     "metadata": {},
     "output_type": "execute_result"
    },
    {
     "data": {
      "image/png": "[encoded data removed]",
      "text/plain": [
       "<Figure size 800x550 with 1 Axes>"
      ]
     },
     "metadata": {},
     "output_type": "display_data"
    }
   ],
   "source": [
    "plt.plot(range(2,11), db_index)"
   ]
  },
  {
   "cell_type": "markdown",
   "id": "256952a8-1c2d-4b5c-b0dd-93079c4bebc2",
   "metadata": {},
   "source": [
    "##### Silhouette Score"
   ]
  },
  {
   "cell_type": "code",
   "execution_count": 50,
   "id": "XptIR3CCfhlM",
   "metadata": {
    "colab": {
     "base_uri": "https://localhost:8080/"
    },
    "executionInfo": {
     "elapsed": 20,
     "status": "ok",
     "timestamp": 1672373083269,
     "user": {
      "displayName": "miroalexander tiopan",
      "userId": "02347598650366603084"
     },
     "user_tz": -420
    },
    "id": "XptIR3CCfhlM",
    "outputId": "14fd97cb-9069-40cc-9f8c-85cb44a7c87b"
   },
   "outputs": [
    {
     "data": {
      "text/plain": [
       "[0.36715703051860954,\n",
       " 0.3985944383920237,\n",
       " 0.4498885599829096,\n",
       " 0.3938352437908507,\n",
       " 0.3921748548065784,\n",
       " 0.4525447844259996,\n",
       " 0.45574241786911157,\n",
       " 0.4823329245819005,\n",
       " 0.5058888770606701]"
      ]
     },
     "execution_count": 50,
     "metadata": {},
     "output_type": "execute_result"
    }
   ],
   "source": [
    "s_index"
   ]
  },
  {
   "cell_type": "code",
   "execution_count": 51,
   "id": "nKqXpbZXfhlN",
   "metadata": {
    "colab": {
     "base_uri": "https://localhost:8080/",
     "height": 282
    },
    "executionInfo": {
     "elapsed": 685,
     "status": "ok",
     "timestamp": 1672373083937,
     "user": {
      "displayName": "miroalexander tiopan",
      "userId": "02347598650366603084"
     },
     "user_tz": -420
    },
    "id": "nKqXpbZXfhlN",
    "outputId": "478ebd2b-86b3-4acc-ab80-a9aa0e4eabea"
   },
   "outputs": [
    {
     "data": {
      "text/plain": [
       "[<matplotlib.lines.Line2D at 0x237c8770f90>]"
      ]
     },
     "execution_count": 51,
     "metadata": {},
     "output_type": "execute_result"
    },
    {
     "data": {
      "image/png": "[encoded data removed]",
      "text/plain": [
       "<Figure size 800x550 with 1 Axes>"
      ]
     },
     "metadata": {},
     "output_type": "display_data"
    }
   ],
   "source": [
    "plt.plot(range(2,11), s_index)"
   ]
  },
  {
   "cell_type": "markdown",
   "id": "962200eb-0a02-4e8a-ac04-4c677c7cedce",
   "metadata": {},
   "source": [
    "### Conclusion"
   ]
  },
  {
   "cell_type": "markdown",
   "id": "608607ec-4c02-4dc3-8b8e-9e8dbee21cde",
   "metadata": {},
   "source": [
    "The analysis of mobile phone products based on their attributes such as price, storage capacity, and stock levels has revealed distinct clusters that can be leveraged for market segmentation and targeted marketing strategies.\n",
    "\n",
    "* Cluster 0 represents a group of mobile phone products characterized by moderate prices, moderate storage capacity, and varying stock levels. These products could be positioned as mid-range options catering to a broad audience. Marketing strategies for this cluster might focus on highlighting the balance between price and features, appealing to consumers looking for value for money.\n",
    "\n",
    "* Cluster 1 comprises mobile phone products with higher prices, larger storage capacities, and relatively lower stock levels. This cluster could be targeted for premium product promotions, emphasizing high-end features, advanced technology, and exclusivity. Marketing efforts may include highlighting luxurious design, cutting-edge technology, and premium customer service to attract discerning consumers willing to invest in top-tier products.\n",
    "\n",
    "* Cluster 2 consists of mobile phone products characterized by lower prices, smaller storage capacities, and higher stock levels. This cluster presents opportunities for clearance sales or entry-level product campaigns, targeting budget-conscious consumers or first-time buyers. Marketing strategies could focus on affordability, durability, and essential features, appealing to consumers seeking cost-effective options without compromising quality.\n",
    "\n",
    "By understanding the distinct characteristics of each cluster, businesses can tailor their marketing strategies, product positioning, and promotional campaigns to effectively target different segments of the market. This approach enhances customer engagement, maximizes sales opportunities, and strengthens brand loyalty by delivering relevant offerings tailored to specific consumer preferences and needs."
   ]
  },
  {
   "cell_type": "code",
   "execution_count": null,
   "id": "50c114bd-3f79-4ca2-a06f-d182240763c1",
   "metadata": {},
   "outputs": [],
   "source": []
  }
 ],
 "metadata": {
  "colab": {
   "provenance": []
  },
  "kernelspec": {
   "display_name": "Python 3 (ipykernel)",
   "language": "python",
   "name": "python3"
  },
  "language_info": {
   "codemirror_mode": {
    "name": "ipython",
    "version": 3
   },
   "file_extension": ".py",
   "mimetype": "text/x-python",
   "name": "python",
   "nbconvert_exporter": "python",
   "pygments_lexer": "ipython3",
   "version": "3.11.7"
  }
 },
 "nbformat": 4,
 "nbformat_minor": 5
}
